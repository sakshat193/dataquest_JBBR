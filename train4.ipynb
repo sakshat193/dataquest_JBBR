{
 "cells": [
  {
   "cell_type": "code",
   "execution_count": 19,
   "metadata": {},
   "outputs": [],
   "source": [
    "import pandas as pd\n",
    "import pickle"
   ]
  },
  {
   "cell_type": "code",
   "execution_count": 20,
   "metadata": {},
   "outputs": [
    {
     "name": "stdout",
     "output_type": "stream",
     "text": [
      "Models and encoders loaded successfully.\n"
     ]
    }
   ],
   "source": [
    "# Load the saved XGBoost model\n",
    "with open('best_xgb_model.pkl', 'rb') as f:\n",
    "    best_xgb = pickle.load(f)\n",
    "\n",
    "# Load the saved scaler\n",
    "with open('scaler.pkl', 'rb') as f:\n",
    "    scaler = pickle.load(f)\n",
    "\n",
    "# Load the saved label encoder\n",
    "with open('label_encoder.pkl', 'rb') as f:\n",
    "    label_encoder = pickle.load(f)\n",
    "\n",
    "print(\"Models and encoders loaded successfully.\")\n"
   ]
  },
  {
   "cell_type": "code",
   "execution_count": 21,
   "metadata": {},
   "outputs": [],
   "source": [
    "df= pd.read_csv('1_earthquake_1995-2023.csv')"
   ]
  },
  {
   "cell_type": "code",
   "execution_count": 22,
   "metadata": {},
   "outputs": [
    {
     "name": "stdout",
     "output_type": "stream",
     "text": [
      "Missing 'alert' values have been filled.\n"
     ]
    }
   ],
   "source": [
    "# Select the features from the new dataframe (same as training data)\n",
    "selected_features = ['magnitude', 'latitude', 'longitude', 'depth', 'tsunami']\n",
    "\n",
    "# Preprocess the new data\n",
    "X_new = df[selected_features]\n",
    "\n",
    "# Scale the features using the saved scaler\n",
    "X_new_scaled = scaler.transform(X_new)\n",
    "\n",
    "# Predict missing 'alert' values\n",
    "missing_alert_indices = df['alert'].isna()  # Identify rows where 'alert' is missing\n",
    "X_missing = X_new_scaled[missing_alert_indices]  # Features for missing alert rows\n",
    "\n",
    "# Use the XGBoost model to predict missing 'alert' values\n",
    "predicted_alerts = best_xgb.predict(X_missing)\n",
    "\n",
    "# Map the predictions back to the original labels using label encoder\n",
    "predicted_alerts = label_encoder.inverse_transform(predicted_alerts)\n",
    "\n",
    "# Fill the missing 'alert' values with the predictions\n",
    "df.loc[missing_alert_indices, 'alert'] = predicted_alerts\n",
    "\n",
    "print(\"Missing 'alert' values have been filled.\")\n"
   ]
  },
  {
   "cell_type": "code",
   "execution_count": 23,
   "metadata": {},
   "outputs": [
    {
     "name": "stdout",
     "output_type": "stream",
     "text": [
      "Updated dataframe saved to 'df_filled.csv'\n"
     ]
    }
   ],
   "source": [
    "# Save the updated dataframe with filled 'alert' values\n",
    "df.to_csv('2_earthquake_1995-2023.csv', index=False)\n",
    "\n",
    "print(\"Updated dataframe saved to 'df_filled.csv'\")\n"
   ]
  },
  {
   "cell_type": "code",
   "execution_count": 24,
   "metadata": {},
   "outputs": [
    {
     "data": {
      "text/plain": [
       "Unnamed: 0    0\n",
       "title         0\n",
       "magnitude     0\n",
       "cdi           0\n",
       "mmi           0\n",
       "alert         0\n",
       "tsunami       0\n",
       "sig           0\n",
       "net           0\n",
       "nst           0\n",
       "dmin          0\n",
       "gap           0\n",
       "magType       0\n",
       "depth         0\n",
       "latitude      0\n",
       "longitude     0\n",
       "location      0\n",
       "continent     0\n",
       "country       0\n",
       "day           0\n",
       "month         0\n",
       "year          0\n",
       "dtype: int64"
      ]
     },
     "execution_count": 24,
     "metadata": {},
     "output_type": "execute_result"
    }
   ],
   "source": [
    "df.isna().sum()"
   ]
  },
  {
   "cell_type": "code",
   "execution_count": null,
   "metadata": {},
   "outputs": [],
   "source": []
  }
 ],
 "metadata": {
  "kernelspec": {
   "display_name": "Python 3",
   "language": "python",
   "name": "python3"
  },
  "language_info": {
   "codemirror_mode": {
    "name": "ipython",
    "version": 3
   },
   "file_extension": ".py",
   "mimetype": "text/x-python",
   "name": "python",
   "nbconvert_exporter": "python",
   "pygments_lexer": "ipython3",
   "version": "3.12.8"
  }
 },
 "nbformat": 4,
 "nbformat_minor": 2
}
