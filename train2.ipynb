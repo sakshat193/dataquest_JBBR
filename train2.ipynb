{
 "cells": [
  {
   "cell_type": "code",
   "execution_count": null,
   "metadata": {},
   "outputs": [],
   "source": []
  },
  {
   "cell_type": "code",
   "execution_count": null,
   "metadata": {},
   "outputs": [],
   "source": [
    "import pycountry\n",
    "import pycountry_convert"
   ]
  },
  {
   "cell_type": "code",
   "execution_count": null,
   "metadata": {},
   "outputs": [],
   "source": [
    "def map_to_continent(df, country_col='country', location_col='location', continent_col='continent'):\n",
    "    \"\"\"\n",
    "    Map countries and locations to continents.\n",
    "\n",
    "    Parameters:\n",
    "    df (pandas.DataFrame): DataFrame containing country and location columns\n",
    "    country_col (str): Name of the country column\n",
    "    location_col (str): Name of the location column\n",
    "    continent_col (str): Name of the continent column to fill\n",
    "\n",
    "    Returns:\n",
    "    pandas.DataFrame: DataFrame with filled continent values\n",
    "    \"\"\"\n",
    "    df_copy = df.copy()\n",
    "\n",
    "    # Country to continent mapping using pycountry\n",
    "    def get_continent_from_country(country_name):\n",
    "        try:\n",
    "            country = pycountry.countries.get(name=country_name)\n",
    "            if country:\n",
    "                continent_code = pycountry_convert.country_alpha2_to_continent_code(country.alpha_2)\n",
    "                return pycountry_convert.convert_continent_code_to_continent_name(continent_code)\n",
    "        except Exception as e:\n",
    "            print(f\"Error mapping country '{country_name}': {e}\")\n",
    "        return None\n",
    "\n",
    "    # Special location patterns to continent mapping\n",
    "    location_patterns = {\n",
    "        'Atlantic': 'Atlantic Ocean',\n",
    "        'Mid-Atlantic': 'Atlantic Ocean',\n",
    "        'Indian Ocean': 'Indian Ocean',\n",
    "        'Pacific': 'Pacific Ocean',\n",
    "        'Caribbean': 'North America',\n",
    "        'Antarctic': 'Antarctica',\n",
    "        'Kermadec': 'Oceania',\n",
    "        'Fiji': 'Oceania',\n",
    "        'Tonga': 'Oceania',\n",
    "        'Vanuatu': 'Oceania',\n",
    "        'Kuril': 'Asia',\n",
    "        'Alaska': 'North America',\n",
    "        'Philippines': 'Asia',\n",
    "        'Sumatra': 'Asia',\n",
    "        'Loyalty Islands': 'Oceania',\n",
    "        'Macquarie': 'Oceania'\n",
    "    }\n",
    "\n",
    "    def get_continent(row):\n",
    "        # If continent is already filled, return it\n",
    "        if pd.notna(row[continent_col]):\n",
    "            return row[continent_col]\n",
    "\n",
    "        # Try to get continent from country first\n",
    "        if pd.notna(row[country_col]):\n",
    "            continent = get_continent_from_country(row[country_col])\n",
    "            if continent:\n",
    "                return continent\n",
    "\n",
    "        # If country not found or is null, try location patterns\n",
    "        if pd.notna(row[location_col]):\n",
    "            location = str(row[location_col]).lower()\n",
    "            for pattern, continent in location_patterns.items():\n",
    "                if pattern.lower() in location:\n",
    "                    return continent\n",
    "\n",
    "        return None\n",
    "\n",
    "    # Apply the mapping\n",
    "    mask = df_copy[continent_col].isna() & df_copy[country_col].notna()\n",
    "    if mask.any():\n",
    "        df_copy.loc[mask, continent_col] = df_copy[mask].apply(get_continent, axis=1)\n",
    "\n",
    "        # Print statistics\n",
    "        filled = mask.sum() - df_copy[continent_col].isna().sum()\n",
    "        print(f\"Filled {filled} out of {mask.sum()} missing continent values\")\n",
    "\n",
    "        if df_copy[continent_col].isna().sum() > 0:\n",
    "            print(\"\\nUnmapped locations:\")\n",
    "            unmapped = df_copy[df_copy[continent_col].isna()]\n",
    "            print(unmapped[[country_col, location_col]].drop_duplicates())\n",
    "\n",
    "    return df_copy"
   ]
  },
  {
   "cell_type": "code",
   "execution_count": null,
   "metadata": {},
   "outputs": [],
   "source": [
    "df = map_to_continent(df)\n",
    "df"
   ]
  },
  {
   "cell_type": "code",
   "execution_count": null,
   "metadata": {},
   "outputs": [],
   "source": [
    "df['continent'] = df['continent'].replace('None', np.nan)\n",
    "df.isna().sum()"
   ]
  }
 ],
 "metadata": {
  "kernelspec": {
   "display_name": "Python 3",
   "language": "python",
   "name": "python3"
  },
  "language_info": {
   "name": "python",
   "version": "3.12.8"
  }
 },
 "nbformat": 4,
 "nbformat_minor": 2
}
