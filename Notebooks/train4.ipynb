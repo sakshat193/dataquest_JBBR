{
 "cells": [
  {
   "cell_type": "code",
   "execution_count": 21,
   "metadata": {},
   "outputs": [],
   "source": [
    "import pandas as pd\n",
    "import pickle"
   ]
  },
  {
   "cell_type": "code",
   "execution_count": 22,
   "metadata": {},
   "outputs": [],
   "source": [
    "from dotenv import load_dotenv\n",
    "import os\n",
    "from pathlib import Path\n",
    "import pickle"
   ]
  },
  {
   "cell_type": "code",
   "execution_count": 23,
   "metadata": {},
   "outputs": [
    {
     "name": "stdout",
     "output_type": "stream",
     "text": [
      "Models and encoders loaded successfully.\n"
     ]
    }
   ],
   "source": [
    "# Load environment variables\n",
    "load_dotenv()\n",
    "\n",
    "# Get base directory and create path to models\n",
    "base_dir = os.getenv(\"PROJECT_DIR\")  # You'll need to add this to your .env file\n",
    "models_dir = Path(base_dir) / \"Notebooks\" / \"Models\"  # Adjust path according to your structure\n",
    "\n",
    "# Load the saved XGBoost model\n",
    "with open(models_dir / 'best_xgb_model.pkl', 'rb') as f:\n",
    "    best_xgb = pickle.load(f)\n",
    "\n",
    "# Load the saved scaler\n",
    "with open(models_dir / 'scaler.pkl', 'rb') as f:\n",
    "    scaler = pickle.load(f)\n",
    "\n",
    "# Load the saved label encoder\n",
    "with open(models_dir / 'label_encoder.pkl', 'rb') as f:\n",
    "    label_encoder = pickle.load(f)\n",
    "\n",
    "print(\"Models and encoders loaded successfully.\")"
   ]
  },
  {
   "cell_type": "code",
   "execution_count": 24,
   "metadata": {},
   "outputs": [],
   "source": [
    "from dotenv import load_dotenv\n",
    "import os\n",
    "from pathlib import Path\n",
    "\n",
    "# Load environment variables\n",
    "load_dotenv()\n",
    "\n",
    "# Get dataset directory\n",
    "dataset_dir = os.getenv(\"DATASET_DIR\")\n",
    "if dataset_dir is None:\n",
    "    raise ValueError(\"DATASET_DIR not found in .env file\")\n",
    "\n",
    "# Use pathlib for reliable path handling\n",
    "data_file = Path(dataset_dir) / \"2_earthquake_1995-2023.csv\"\n",
    "df = pd.read_csv(data_file)"
   ]
  },
  {
   "cell_type": "code",
   "execution_count": 25,
   "metadata": {},
   "outputs": [
    {
     "name": "stdout",
     "output_type": "stream",
     "text": [
      "Missing 'alert' values have been filled.\n"
     ]
    }
   ],
   "source": [
    "# Select the features from the new dataframe (same as training data)\n",
    "# Select features\n",
    "selected_features = [\n",
    "    'dmin', 'cdi', 'sig', 'tsunami', 'gap'\n",
    "]\n",
    "\n",
    "# Preprocess the new data\n",
    "X_new = df[selected_features]\n",
    "\n",
    "# Scale the features using the saved scaler\n",
    "X_new_scaled = scaler.transform(X_new)\n",
    "\n",
    "# Predict missing 'alert' values\n",
    "missing_alert_indices = df['alert'].isna()  # Identify rows where 'alert' is missing\n",
    "X_missing = X_new_scaled[missing_alert_indices]  # Features for missing alert rows\n",
    "\n",
    "# Use the XGBoost model to predict missing 'alert' values\n",
    "predicted_alerts = best_xgb.predict(X_missing)\n",
    "\n",
    "# Map the predictions back to the original labels using label encoder\n",
    "predicted_alerts = label_encoder.inverse_transform(predicted_alerts)\n",
    "\n",
    "# Fill the missing 'alert' values with the predictions\n",
    "df.loc[missing_alert_indices, 'alert'] = predicted_alerts\n",
    "\n",
    "print(\"Missing 'alert' values have been filled.\")\n"
   ]
  },
  {
   "cell_type": "code",
   "execution_count": 26,
   "metadata": {},
   "outputs": [],
   "source": [
    "# Save the file using the full path\n",
    "dataset_path = Path(dataset_dir)\n",
    "dataset_path.mkdir(exist_ok=True)\n",
    "\n",
    "output_file = dataset_path / \"3_earthquake_1995-2023.csv\"\n",
    "df.to_csv(output_file, index=False)"
   ]
  },
  {
   "cell_type": "code",
   "execution_count": null,
   "metadata": {},
   "outputs": [],
   "source": []
  }
 ],
 "metadata": {
  "kernelspec": {
   "display_name": "Python 3",
   "language": "python",
   "name": "python3"
  },
  "language_info": {
   "codemirror_mode": {
    "name": "ipython",
    "version": 3
   },
   "file_extension": ".py",
   "mimetype": "text/x-python",
   "name": "python",
   "nbconvert_exporter": "python",
   "pygments_lexer": "ipython3",
   "version": "3.10.11"
  }
 },
 "nbformat": 4,
 "nbformat_minor": 2
}
