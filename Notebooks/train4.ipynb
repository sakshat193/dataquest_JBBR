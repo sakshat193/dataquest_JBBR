{
 "cells": [
  {
   "cell_type": "code",
   "execution_count": 10,
   "metadata": {},
   "outputs": [],
   "source": [
    "import pandas as pd\n",
    "import pickle"
   ]
  },
  {
   "cell_type": "code",
   "execution_count": 11,
   "metadata": {},
   "outputs": [],
   "source": [
    "import os\n",
    "import pickle"
   ]
  },
  {
   "cell_type": "code",
   "execution_count": 12,
   "metadata": {},
   "outputs": [
    {
     "name": "stdout",
     "output_type": "stream",
     "text": [
      "Models and encoders loaded successfully.\n"
     ]
    },
    {
     "name": "stderr",
     "output_type": "stream",
     "text": [
      "C:\\Users\\Akshat\\AppData\\Local\\Packages\\PythonSoftwareFoundation.Python.3.12_qbz5n2kfra8p0\\LocalCache\\local-packages\\Python312\\site-packages\\sklearn\\base.py:376: InconsistentVersionWarning: Trying to unpickle estimator StandardScaler from version 1.6.0 when using version 1.5.1. This might lead to breaking code or invalid results. Use at your own risk. For more info please refer to:\n",
      "https://scikit-learn.org/stable/model_persistence.html#security-maintainability-limitations\n",
      "  warnings.warn(\n",
      "C:\\Users\\Akshat\\AppData\\Local\\Packages\\PythonSoftwareFoundation.Python.3.12_qbz5n2kfra8p0\\LocalCache\\local-packages\\Python312\\site-packages\\sklearn\\base.py:376: InconsistentVersionWarning: Trying to unpickle estimator LabelEncoder from version 1.6.0 when using version 1.5.1. This might lead to breaking code or invalid results. Use at your own risk. For more info please refer to:\n",
      "https://scikit-learn.org/stable/model_persistence.html#security-maintainability-limitations\n",
      "  warnings.warn(\n"
     ]
    }
   ],
   "source": [
    "with open(\"../Notebooks/Models/best_xgb_model.pkl\", 'rb') as f:\n",
    "    best_xgb = pickle.load(f)\n",
    "\n",
    "with open('../Notebooks/Models/scaler.pkl', 'rb') as f:\n",
    "    scaler = pickle.load(f)\n",
    "\n",
    "with open('../Notebooks/Models/label_encoder.pkl', 'rb') as f:\n",
    "    label_encoder = pickle.load(f)\n",
    "\n",
    "print(\"Models and encoders loaded successfully.\")\n"
   ]
  },
  {
   "cell_type": "code",
   "execution_count": 13,
   "metadata": {},
   "outputs": [
    {
     "name": "stderr",
     "output_type": "stream",
     "text": [
      "<>:1: SyntaxWarning: invalid escape sequence '\\D'\n",
      "<>:1: SyntaxWarning: invalid escape sequence '\\D'\n",
      "C:\\Users\\Akshat\\AppData\\Local\\Temp\\ipykernel_3736\\2962003353.py:1: SyntaxWarning: invalid escape sequence '\\D'\n",
      "  df = pd.read_csv('..\\Datasets\\\\2_earthquake_1995-2023.csv')\n"
     ]
    }
   ],
   "source": [
    "df = pd.read_csv('..\\Datasets\\\\2_earthquake_1995-2023.csv')"
   ]
  },
  {
   "cell_type": "code",
   "execution_count": 14,
   "metadata": {},
   "outputs": [
    {
     "name": "stdout",
     "output_type": "stream",
     "text": [
      "Missing 'alert' values have been filled.\n"
     ]
    }
   ],
   "source": [
    "# Select features\n",
    "selected_features = [\n",
    "    'dmin', 'magnitude', 'tsunami', 'depth', 'latitude', 'longitude'\n",
    "]\n",
    "\n",
    "\n",
    "# Preprocess the new data\n",
    "X_new = df[selected_features]\n",
    "\n",
    "# Scale the features using the saved scaler\n",
    "X_new_scaled = scaler.transform(X_new)\n",
    "\n",
    "# Predict missing 'alert' values\n",
    "missing_alert_indices = df['alert'].isna()  # Identify rows where 'alert' is missing\n",
    "X_missing = X_new_scaled[missing_alert_indices]  # Features for missing alert rows\n",
    "\n",
    "# Use the XGBoost model to predict missing 'alert' values\n",
    "predicted_alerts = best_xgb.predict(X_missing)\n",
    "\n",
    "# Map the predictions back to the original labels using label encoder\n",
    "predicted_alerts = label_encoder.inverse_transform(predicted_alerts)\n",
    "\n",
    "# Fill the missing 'alert' values with the predictions\n",
    "df.loc[missing_alert_indices, 'alert'] = predicted_alerts\n",
    "\n",
    "print(\"Missing 'alert' values have been filled.\")\n"
   ]
  },
  {
   "cell_type": "code",
   "execution_count": 15,
   "metadata": {},
   "outputs": [],
   "source": [
    "output_file = \"../Datasets/3_earthquake_1995-2023.csv\"\n",
    "df.to_csv(output_file, index=False)"
   ]
  },
  {
   "cell_type": "code",
   "execution_count": 16,
   "metadata": {},
   "outputs": [
    {
     "data": {
      "text/plain": [
       "array(['mww', 'Mi', 'mwc', 'mwb', 'ml', 'mw', 'ms', 'mb', 'md'],\n",
       "      dtype=object)"
      ]
     },
     "execution_count": 16,
     "metadata": {},
     "output_type": "execute_result"
    }
   ],
   "source": [
    "df['magType'].unique()"
   ]
  },
  {
   "cell_type": "code",
   "execution_count": 17,
   "metadata": {},
   "outputs": [
    {
     "data": {
      "text/plain": [
       "array([ 4,  6,  5,  2,  7,  3,  9,  8,  1, 10], dtype=int64)"
      ]
     },
     "execution_count": 17,
     "metadata": {},
     "output_type": "execute_result"
    }
   ],
   "source": [
    "df['mmi'].unique()"
   ]
  },
  {
   "cell_type": "code",
   "execution_count": null,
   "metadata": {},
   "outputs": [],
   "source": []
  }
 ],
 "metadata": {
  "kernelspec": {
   "display_name": "Python 3",
   "language": "python",
   "name": "python3"
  },
  "language_info": {
   "codemirror_mode": {
    "name": "ipython",
    "version": 3
   },
   "file_extension": ".py",
   "mimetype": "text/x-python",
   "name": "python",
   "nbconvert_exporter": "python",
   "pygments_lexer": "ipython3",
   "version": "3.12.8"
  }
 },
 "nbformat": 4,
 "nbformat_minor": 2
}
