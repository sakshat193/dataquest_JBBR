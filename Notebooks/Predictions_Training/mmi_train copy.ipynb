{
 "cells": [
  {
   "cell_type": "code",
   "execution_count": 10,
   "metadata": {},
   "outputs": [],
   "source": [
    "import pandas as pd\n",
    "import numpy as np\n",
    "import matplotlib.pyplot as plt\n",
    "import seaborn as sns"
   ]
  },
  {
   "cell_type": "code",
   "execution_count": 11,
   "metadata": {},
   "outputs": [],
   "source": [
    "df = pd.read_csv(\"../../Datasets/3_earthquake_1995-2023.csv\")\n",
    "df.drop(columns=['title', 'day', 'month', 'year', 'location', 'country'], inplace=True)"
   ]
  },
  {
   "cell_type": "code",
   "execution_count": 12,
   "metadata": {},
   "outputs": [
    {
     "name": "stdout",
     "output_type": "stream",
     "text": [
      "Null values in dataset:\n",
      "magnitude    0\n",
      "cdi          0\n",
      "mmi          0\n",
      "alert        0\n",
      "tsunami      0\n",
      "sig          0\n",
      "net          0\n",
      "nst          0\n",
      "dmin         0\n",
      "gap          0\n",
      "magType      0\n",
      "depth        0\n",
      "latitude     0\n",
      "longitude    0\n",
      "continent    0\n",
      "dtype: int64\n"
     ]
    },
    {
     "data": {
      "image/png": "[encoded data removed]",
      "text/plain": [
       "<Figure size 1000x600 with 1 Axes>"
      ]
     },
     "metadata": {},
     "output_type": "display_data"
    }
   ],
   "source": [
    "# Check null values and data distribution\n",
    "print(\"Null values in dataset:\")\n",
    "print(df.isna().sum())\n",
    "\n",
    "plt.figure(figsize=(10, 6))\n",
    "sns.histplot(df['mmi'], kde=True, bins=30)\n",
    "plt.title('Distribution of MMI')\n",
    "plt.show()"
   ]
  },
  {
   "cell_type": "code",
   "execution_count": 13,
   "metadata": {},
   "outputs": [],
   "source": [
    "from sklearn.preprocessing import StandardScaler, LabelEncoder\n",
    "from sklearn.model_selection import StratifiedKFold\n",
    "from imblearn.over_sampling import SMOTE, SMOTENC, RandomOverSampler\n",
    "import xgboost as xgb\n",
    "from sklearn.metrics import classification_report, accuracy_score, balanced_accuracy_score, cohen_kappa_score, confusion_matrix\n"
   ]
  },
  {
   "cell_type": "code",
   "execution_count": 14,
   "metadata": {},
   "outputs": [],
   "source": [
    "# Separate features and target\n",
    "X = df.drop(columns=['mmi'])\n",
    "y = df['mmi']\n",
    "\n",
    "# Identify feature types\n",
    "categorical_features = X.select_dtypes(include=['object']).columns\n",
    "numerical_features = X.select_dtypes(include=['int64', 'float64']).columns"
   ]
  },
  {
   "cell_type": "code",
   "execution_count": 15,
   "metadata": {},
   "outputs": [],
   "source": [
    "# Initialize transformers\n",
    "transformers = {\n",
    "    'label_encoders': {},\n",
    "    'scaler': StandardScaler()\n",
    "}\n",
    "\n",
    "# Transform categorical features\n",
    "X_transformed = X.copy()\n",
    "categorical_features = X.select_dtypes(include=['object']).columns\n",
    "numerical_features = X.select_dtypes(include=['int64', 'float64']).columns\n",
    "\n",
    "for col in categorical_features:\n",
    "    transformers['label_encoders'][col] = LabelEncoder()\n",
    "    X_transformed[col] = transformers['label_encoders'][col].fit_transform(X[col])\n",
    "\n",
    "# Transform numerical features\n",
    "X_transformed[numerical_features] = transformers['scaler'].fit_transform(X[numerical_features])\n",
    "\n",
    "# Transform target (shift values to start from 0)\n",
    "y_transformed = y - 1  # Subtract 1 from all values to start from 0"
   ]
  },
  {
   "cell_type": "code",
   "execution_count": 16,
   "metadata": {},
   "outputs": [],
   "source": [
    "# Initialize stratified k-fold\n",
    "n_splits = 5\n",
    "skf = StratifiedKFold(n_splits=n_splits, shuffle=True, random_state=42)\n",
    "\n",
    "# Initialize lists to store results\n",
    "fold_accuracies = []\n",
    "fold_balanced_accuracies = []\n",
    "fold_kappa_scores = []\n",
    "feature_importance_folds = []\n",
    "\n",
    "# Initialize array for storing predictions for confusion matrix\n",
    "all_true = []\n",
    "all_pred = []\n",
    "\n",
    "# Identify categorical feature indices for SMOTENC\n",
    "categorical_feature_indices = [i for i, col in enumerate(X_transformed.columns) \n",
    "                             if col in categorical_features]"
   ]
  },
  {
   "cell_type": "code",
   "execution_count": 17,
   "metadata": {},
   "outputs": [],
   "source": [
    "# Initialize XGBoost model\n",
    "xgb_model = xgb.XGBClassifier(\n",
    "    n_estimators=1000,\n",
    "    learning_rate=0.01,\n",
    "    max_depth=7,\n",
    "    min_child_weight=1,\n",
    "    gamma=0,\n",
    "    subsample=0.8,\n",
    "    colsample_bytree=0.8,\n",
    "    objective='multi:softmax',\n",
    "    num_class=len(np.unique(y_transformed)),\n",
    "    random_state=42,\n",
    "    n_jobs=-1,\n",
    "    early_stopping_rounds=50\n",
    ")"
   ]
  },
  {
   "cell_type": "code",
   "execution_count": 18,
   "metadata": {},
   "outputs": [
    {
     "name": "stdout",
     "output_type": "stream",
     "text": [
      "Starting k-fold cross-validation...\n",
      "Number of unique classes in y_transformed: 10\n",
      "Unique values in y_transformed: [0 1 2 3 4 5 6 7 8 9]\n",
      "\n",
      "Fold 1/5\n",
      "\n",
      "Fold 1 Results:\n",
      "              precision    recall  f1-score   support\n",
      "\n",
      "           1       0.00      0.00      0.00         1\n",
      "           2       0.55      0.75      0.63         8\n",
      "           3       0.46      0.55      0.50        20\n",
      "           4       0.39      0.33      0.36        33\n",
      "           5       0.52      0.51      0.51        55\n",
      "           6       0.54      0.53      0.53        53\n",
      "           7       0.40      0.35      0.38        17\n",
      "           8       0.40      0.50      0.44         8\n",
      "\n",
      "    accuracy                           0.48       195\n",
      "   macro avg       0.41      0.44      0.42       195\n",
      "weighted avg       0.48      0.48      0.48       195\n",
      "\n",
      "\n",
      "Fold 2/5\n",
      "\n",
      "Fold 2 Results:\n",
      "              precision    recall  f1-score   support\n",
      "\n",
      "           1       0.00      0.00      0.00         1\n",
      "           2       0.60      0.75      0.67         8\n",
      "           3       0.43      0.47      0.45        19\n",
      "           4       0.42      0.33      0.37        33\n",
      "           5       0.53      0.48      0.50        56\n",
      "           6       0.59      0.66      0.62        53\n",
      "           7       0.50      0.71      0.59        17\n",
      "           8       1.00      0.38      0.55         8\n",
      "           9       0.00      0.00      0.00         0\n",
      "\n",
      "    accuracy                           0.53       195\n",
      "   macro avg       0.45      0.42      0.42       195\n",
      "weighted avg       0.54      0.53      0.52       195\n",
      "\n",
      "\n",
      "Fold 3/5\n"
     ]
    },
    {
     "ename": "ValueError",
     "evalue": "Invalid classes inferred from unique values of `y`.  Expected: [0 1 2 3 4 5 6 7 8], got [1 2 3 4 5 6 7 8 9]",
     "output_type": "error",
     "traceback": [
      "\u001b[1;31m---------------------------------------------------------------------------\u001b[0m",
      "\u001b[1;31mValueError\u001b[0m                                Traceback (most recent call last)",
      "Cell \u001b[1;32mIn[18], line 34\u001b[0m\n\u001b[0;32m     24\u001b[0m \u001b[38;5;66;03m# Feature selection\u001b[39;00m\n\u001b[0;32m     25\u001b[0m feature_selector \u001b[38;5;241m=\u001b[39m xgb\u001b[38;5;241m.\u001b[39mXGBClassifier(\n\u001b[0;32m     26\u001b[0m     n_estimators\u001b[38;5;241m=\u001b[39m\u001b[38;5;241m100\u001b[39m,\n\u001b[0;32m     27\u001b[0m     learning_rate\u001b[38;5;241m=\u001b[39m\u001b[38;5;241m0.1\u001b[39m,\n\u001b[1;32m   (...)\u001b[0m\n\u001b[0;32m     31\u001b[0m     n_jobs\u001b[38;5;241m=\u001b[39m\u001b[38;5;241m-\u001b[39m\u001b[38;5;241m1\u001b[39m\n\u001b[0;32m     32\u001b[0m )\n\u001b[1;32m---> 34\u001b[0m \u001b[43mfeature_selector\u001b[49m\u001b[38;5;241;43m.\u001b[39;49m\u001b[43mfit\u001b[49m\u001b[43m(\u001b[49m\u001b[43mX_train_resampled\u001b[49m\u001b[43m,\u001b[49m\u001b[43m \u001b[49m\u001b[43my_train_resampled\u001b[49m\u001b[43m)\u001b[49m\n\u001b[0;32m     36\u001b[0m \u001b[38;5;66;03m# Record feature importance\u001b[39;00m\n\u001b[0;32m     37\u001b[0m fold_importance \u001b[38;5;241m=\u001b[39m pd\u001b[38;5;241m.\u001b[39mDataFrame({\n\u001b[0;32m     38\u001b[0m     \u001b[38;5;124m'\u001b[39m\u001b[38;5;124mFeature\u001b[39m\u001b[38;5;124m'\u001b[39m: X_transformed\u001b[38;5;241m.\u001b[39mcolumns,\n\u001b[0;32m     39\u001b[0m     \u001b[38;5;124m'\u001b[39m\u001b[38;5;124mImportance\u001b[39m\u001b[38;5;124m'\u001b[39m: feature_selector\u001b[38;5;241m.\u001b[39mfeature_importances_,\n\u001b[0;32m     40\u001b[0m     \u001b[38;5;124m'\u001b[39m\u001b[38;5;124mFold\u001b[39m\u001b[38;5;124m'\u001b[39m: fold\n\u001b[0;32m     41\u001b[0m })\n",
      "File \u001b[1;32m~\\AppData\\Local\\Packages\\PythonSoftwareFoundation.Python.3.10_qbz5n2kfra8p0\\LocalCache\\local-packages\\Python310\\site-packages\\xgboost\\core.py:726\u001b[0m, in \u001b[0;36mrequire_keyword_args.<locals>.throw_if.<locals>.inner_f\u001b[1;34m(*args, **kwargs)\u001b[0m\n\u001b[0;32m    724\u001b[0m \u001b[38;5;28;01mfor\u001b[39;00m k, arg \u001b[38;5;129;01min\u001b[39;00m \u001b[38;5;28mzip\u001b[39m(sig\u001b[38;5;241m.\u001b[39mparameters, args):\n\u001b[0;32m    725\u001b[0m     kwargs[k] \u001b[38;5;241m=\u001b[39m arg\n\u001b[1;32m--> 726\u001b[0m \u001b[38;5;28;01mreturn\u001b[39;00m func(\u001b[38;5;241m*\u001b[39m\u001b[38;5;241m*\u001b[39mkwargs)\n",
      "File \u001b[1;32m~\\AppData\\Local\\Packages\\PythonSoftwareFoundation.Python.3.10_qbz5n2kfra8p0\\LocalCache\\local-packages\\Python310\\site-packages\\xgboost\\sklearn.py:1491\u001b[0m, in \u001b[0;36mXGBClassifier.fit\u001b[1;34m(self, X, y, sample_weight, base_margin, eval_set, verbose, xgb_model, sample_weight_eval_set, base_margin_eval_set, feature_weights)\u001b[0m\n\u001b[0;32m   1486\u001b[0m     expected_classes \u001b[38;5;241m=\u001b[39m \u001b[38;5;28mself\u001b[39m\u001b[38;5;241m.\u001b[39mclasses_\n\u001b[0;32m   1487\u001b[0m \u001b[38;5;28;01mif\u001b[39;00m (\n\u001b[0;32m   1488\u001b[0m     classes\u001b[38;5;241m.\u001b[39mshape \u001b[38;5;241m!=\u001b[39m expected_classes\u001b[38;5;241m.\u001b[39mshape\n\u001b[0;32m   1489\u001b[0m     \u001b[38;5;129;01mor\u001b[39;00m \u001b[38;5;129;01mnot\u001b[39;00m (classes \u001b[38;5;241m==\u001b[39m expected_classes)\u001b[38;5;241m.\u001b[39mall()\n\u001b[0;32m   1490\u001b[0m ):\n\u001b[1;32m-> 1491\u001b[0m     \u001b[38;5;28;01mraise\u001b[39;00m \u001b[38;5;167;01mValueError\u001b[39;00m(\n\u001b[0;32m   1492\u001b[0m         \u001b[38;5;124mf\u001b[39m\u001b[38;5;124m\"\u001b[39m\u001b[38;5;124mInvalid classes inferred from unique values of `y`.  \u001b[39m\u001b[38;5;124m\"\u001b[39m\n\u001b[0;32m   1493\u001b[0m         \u001b[38;5;124mf\u001b[39m\u001b[38;5;124m\"\u001b[39m\u001b[38;5;124mExpected: \u001b[39m\u001b[38;5;132;01m{\u001b[39;00mexpected_classes\u001b[38;5;132;01m}\u001b[39;00m\u001b[38;5;124m, got \u001b[39m\u001b[38;5;132;01m{\u001b[39;00mclasses\u001b[38;5;132;01m}\u001b[39;00m\u001b[38;5;124m\"\u001b[39m\n\u001b[0;32m   1494\u001b[0m     )\n\u001b[0;32m   1496\u001b[0m params \u001b[38;5;241m=\u001b[39m \u001b[38;5;28mself\u001b[39m\u001b[38;5;241m.\u001b[39mget_xgb_params()\n\u001b[0;32m   1498\u001b[0m \u001b[38;5;28;01mif\u001b[39;00m \u001b[38;5;28mcallable\u001b[39m(\u001b[38;5;28mself\u001b[39m\u001b[38;5;241m.\u001b[39mobjective):\n",
      "\u001b[1;31mValueError\u001b[0m: Invalid classes inferred from unique values of `y`.  Expected: [0 1 2 3 4 5 6 7 8], got [1 2 3 4 5 6 7 8 9]"
     ]
    }
   ],
   "source": [
    "print(\"Starting k-fold cross-validation...\")\n",
    "print(\"Number of unique classes in y_transformed:\", len(np.unique(y_transformed)))\n",
    "print(\"Unique values in y_transformed:\", np.unique(y_transformed))\n",
    "\n",
    "for fold, (train_idx, val_idx) in enumerate(skf.split(X_transformed, y_transformed), 1):\n",
    "    print(f\"\\nFold {fold}/{n_splits}\")\n",
    "    \n",
    "    # Split data\n",
    "    X_train, X_val = X_transformed.iloc[train_idx], X_transformed.iloc[val_idx]\n",
    "    y_train, y_val = y_transformed[train_idx], y_transformed[val_idx]\n",
    "    \n",
    "    # Apply RandomOverSampler\n",
    "    ros = RandomOverSampler(random_state=42)\n",
    "    X_temp, y_temp = ros.fit_resample(X_train, y_train)\n",
    "    \n",
    "    # Apply SMOTENC\n",
    "    smotenc = SMOTENC(\n",
    "        categorical_features=categorical_feature_indices,\n",
    "        random_state=42,\n",
    "        k_neighbors=2\n",
    "    )\n",
    "    X_train_resampled, y_train_resampled = smotenc.fit_resample(X_temp, y_temp)\n",
    "    \n",
    "    # Feature selection\n",
    "    feature_selector = xgb.XGBClassifier(\n",
    "        n_estimators=100,\n",
    "        learning_rate=0.1,\n",
    "        max_depth=6,\n",
    "        num_class=len(np.unique(y_transformed)),\n",
    "        random_state=42,\n",
    "        n_jobs=-1\n",
    "    )\n",
    "    \n",
    "    feature_selector.fit(X_train_resampled, y_train_resampled)\n",
    "    \n",
    "    # Record feature importance\n",
    "    fold_importance = pd.DataFrame({\n",
    "        'Feature': X_transformed.columns,\n",
    "        'Importance': feature_selector.feature_importances_,\n",
    "        'Fold': fold\n",
    "    })\n",
    "    feature_importance_folds.append(fold_importance)\n",
    "    \n",
    "    # Select top features\n",
    "    selected_features = list(fold_importance.nlargest(10, 'Importance')['Feature'])\n",
    "    X_train_final = X_train_resampled[selected_features]\n",
    "    X_val_final = X_val[selected_features]\n",
    "    \n",
    "    # Train and evaluate\n",
    "    eval_set = [(X_val_final, y_val)]\n",
    "    xgb_model.fit(\n",
    "        X_train_final,\n",
    "        y_train_resampled,\n",
    "        eval_set=eval_set,\n",
    "        verbose=0\n",
    "    )\n",
    "    \n",
    "    y_pred = xgb_model.predict(X_val_final)\n",
    "    \n",
    "    # Store metrics\n",
    "    fold_accuracies.append(accuracy_score(y_val, y_pred))\n",
    "    fold_balanced_accuracies.append(balanced_accuracy_score(y_val, y_pred))\n",
    "    fold_kappa_scores.append(cohen_kappa_score(y_val, y_pred))\n",
    "    \n",
    "    all_true.extend(y_val)\n",
    "    all_pred.extend(y_pred)\n",
    "    \n",
    "    # Print fold results\n",
    "    print(f\"\\nFold {fold} Results:\")\n",
    "    print(classification_report(y_val, y_pred))"
   ]
  },
  {
   "cell_type": "code",
   "execution_count": null,
   "metadata": {},
   "outputs": [],
   "source": [
    "# Print overall results\n",
    "print(\"\\nOverall Results:\")\n",
    "print(f\"Average Accuracy: {np.mean(fold_accuracies):.4f} (±{np.std(fold_accuracies):.4f})\")\n",
    "print(f\"Average Balanced Accuracy: {np.mean(fold_balanced_accuracies):.4f} (±{np.std(fold_balanced_accuracies):.4f})\")\n",
    "print(f\"Average Kappa Score: {np.mean(fold_kappa_scores):.4f} (±{np.std(fold_kappa_scores):.4f})\")\n"
   ]
  },
  {
   "cell_type": "code",
   "execution_count": null,
   "metadata": {},
   "outputs": [],
   "source": [
    "# Combine feature importance from all folds\n",
    "all_feature_importance = pd.concat(feature_importance_folds)\n",
    "mean_feature_importance = all_feature_importance.groupby('Feature')['Importance'].mean().reset_index()\n",
    "std_feature_importance = all_feature_importance.groupby('Feature')['Importance'].std().reset_index()\n"
   ]
  },
  {
   "cell_type": "code",
   "execution_count": null,
   "metadata": {},
   "outputs": [],
   "source": [
    "# Plot average feature importance with error bars\n",
    "plt.figure(figsize=(12, 8))\n",
    "top_features = mean_feature_importance.nlargest(10, 'Importance')\n",
    "plt.errorbar(\n",
    "    x=top_features['Importance'],\n",
    "    y=range(len(top_features)),\n",
    "    xerr=std_feature_importance[std_feature_importance['Feature'].isin(top_features['Feature'])]['Importance'],\n",
    "    fmt='o',\n",
    "    capsize=5\n",
    ")\n",
    "plt.yticks(range(len(top_features)), top_features['Feature'])\n",
    "plt.title('Top 10 Feature Importance Across Folds')\n",
    "plt.xlabel('Average Importance (with standard deviation)')\n",
    "plt.tight_layout()\n",
    "plt.show()"
   ]
  },
  {
   "cell_type": "code",
   "execution_count": null,
   "metadata": {},
   "outputs": [],
   "source": [
    "# Plot confusion matrix using all predictions\n",
    "plt.figure(figsize=(12, 8))\n",
    "cm = confusion_matrix(all_true, all_pred)\n",
    "sns.heatmap(cm, annot=True, fmt='d', cmap='Blues', \n",
    "            square=True, cbar_kws={\"shrink\": .5})\n",
    "plt.title('Confusion Matrix (All Folds)')\n",
    "plt.ylabel('True Label')\n",
    "plt.xlabel('Predicted Label')\n",
    "plt.show()\n"
   ]
  },
  {
   "cell_type": "code",
   "execution_count": null,
   "metadata": {},
   "outputs": [],
   "source": [
    "# Plot performance metrics across folds\n",
    "plt.figure(figsize=(12, 6))\n",
    "fold_metrics = pd.DataFrame({\n",
    "    'Fold': range(1, n_splits + 1),\n",
    "    'Accuracy': fold_accuracies,\n",
    "    'Balanced Accuracy': fold_balanced_accuracies,\n",
    "    'Kappa': fold_kappa_scores\n",
    "})"
   ]
  },
  {
   "cell_type": "code",
   "execution_count": null,
   "metadata": {},
   "outputs": [],
   "source": [
    "fold_metrics_melted = pd.melt(fold_metrics, id_vars=['Fold'], var_name='Metric', value_name='Score')\n",
    "sns.boxplot(data=fold_metrics_melted, x='Metric', y='Score')\n",
    "plt.title('Performance Metrics Across Folds')\n",
    "plt.tight_layout()\n",
    "plt.show()"
   ]
  }
 ],
 "metadata": {
  "kernelspec": {
   "display_name": "Python 3",
   "language": "python",
   "name": "python3"
  },
  "language_info": {
   "codemirror_mode": {
    "name": "ipython",
    "version": 3
   },
   "file_extension": ".py",
   "mimetype": "text/x-python",
   "name": "python",
   "nbconvert_exporter": "python",
   "pygments_lexer": "ipython3",
   "version": "3.10.11"
  }
 },
 "nbformat": 4,
 "nbformat_minor": 2
}
