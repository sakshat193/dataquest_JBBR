{
 "cells": [
  {
   "cell_type": "code",
   "execution_count": 471,
   "metadata": {},
   "outputs": [],
   "source": [
    "import pandas as pd\n",
    "import numpy as np\n",
    "import matplotlib.pyplot as plt\n",
    "import seaborn as sns"
   ]
  },
  {
   "cell_type": "code",
   "execution_count": 472,
   "metadata": {},
   "outputs": [],
   "source": [
    "from pathlib import Path\n",
    "import pickle\n",
    "from dotenv import load_dotenv\n",
    "import os"
   ]
  },
  {
   "cell_type": "code",
   "execution_count": 473,
   "metadata": {},
   "outputs": [],
   "source": [
    "# Load environment variables and data\n",
    "load_dotenv()\n",
    "dataset_dir = os.getenv(\"DATASET_DIR\")\n",
    "if dataset_dir is None:\n",
    "    raise ValueError(\"DATASET_DIR not found in .env file\")\n",
    "\n",
    "data_file = Path(dataset_dir) / \"3_earthquake_1995-2023.csv\"\n",
    "df = pd.read_csv(data_file)\n",
    "df.drop(columns=['title'], inplace=True)"
   ]
  },
  {
   "cell_type": "code",
   "execution_count": 474,
   "metadata": {},
   "outputs": [
    {
     "name": "stdout",
     "output_type": "stream",
     "text": [
      "Null values in dataset:\n",
      "magnitude    0\n",
      "cdi          0\n",
      "mmi          0\n",
      "alert        0\n",
      "tsunami      0\n",
      "sig          0\n",
      "net          0\n",
      "nst          0\n",
      "dmin         0\n",
      "gap          0\n",
      "magType      0\n",
      "depth        0\n",
      "latitude     0\n",
      "longitude    0\n",
      "location     0\n",
      "continent    0\n",
      "country      0\n",
      "day          0\n",
      "month        0\n",
      "year         0\n",
      "dtype: int64\n"
     ]
    },
    {
     "data": {
      "image/png": "[encoded data removed]",
      "text/plain": [
       "<Figure size 1000x600 with 1 Axes>"
      ]
     },
     "metadata": {},
     "output_type": "display_data"
    }
   ],
   "source": [
    "print(\"Null values in dataset:\")\n",
    "print(df.isna().sum())\n",
    "\n",
    "plt.figure(figsize=(10, 6))\n",
    "sns.histplot(df['cdi'], kde=True, bins=30)\n",
    "plt.title('Distribution of CDI')\n",
    "plt.show()"
   ]
  },
  {
   "cell_type": "code",
   "execution_count": 475,
   "metadata": {},
   "outputs": [],
   "source": [
    "from sklearn.preprocessing import StandardScaler, LabelEncoder"
   ]
  },
  {
   "cell_type": "code",
   "execution_count": 476,
   "metadata": {},
   "outputs": [],
   "source": [
    "# Preprocessing\n",
    "X = df.drop(columns=['cdi'])\n",
    "y = df['cdi']\n",
    "\n",
    "categorical_features = X.select_dtypes(include=['object']).columns\n",
    "numerical_features = X.select_dtypes(include=['int64', 'float64']).columns\n",
    "\n",
    "# Initialize and fit transformers\n",
    "transformers = {\n",
    "    'label_encoders': {col: LabelEncoder().fit(X[col]) for col in categorical_features},\n",
    "    'scaler': StandardScaler().fit(X[numerical_features]),\n",
    "    'target_encoder': LabelEncoder().fit(y)\n",
    "}\n",
    "\n",
    "# Transform features\n",
    "X_transformed = X.copy()\n",
    "for col in categorical_features:\n",
    "    X_transformed[col] = transformers['label_encoders'][col].transform(X[col])\n",
    "X_transformed[numerical_features] = transformers['scaler'].transform(X[numerical_features])\n",
    "y_transformed = transformers['target_encoder'].transform(y)\n"
   ]
  },
  {
   "cell_type": "code",
   "execution_count": 477,
   "metadata": {},
   "outputs": [],
   "source": [
    "from sklearn.model_selection import train_test_split\n",
    "from imblearn.over_sampling import SMOTE"
   ]
  },
  {
   "cell_type": "code",
   "execution_count": 478,
   "metadata": {},
   "outputs": [],
   "source": [
    "# Initial train-test split\n",
    "X_train, X_test, y_train, y_test = train_test_split(\n",
    "    X_transformed, y_transformed, test_size=0.2, random_state=42, stratify=y_transformed\n",
    ")\n",
    "\n",
    "# Apply SMOTE\n",
    "smote = SMOTE(random_state=42)\n",
    "X_train_resampled, y_train_resampled = smote.fit_resample(X_train, y_train)\n",
    "transformers['smote'] = smote\n"
   ]
  },
  {
   "cell_type": "code",
   "execution_count": 479,
   "metadata": {},
   "outputs": [],
   "source": [
    "from sklearn.ensemble import RandomForestClassifier\n",
    "from sklearn.feature_selection import RFE, SelectKBest, mutual_info_classif"
   ]
  },
  {
   "cell_type": "code",
   "execution_count": 480,
   "metadata": {},
   "outputs": [
    {
     "name": "stdout",
     "output_type": "stream",
     "text": [
      "\n",
      "Top 10 Selected Features: ['sig', 'year', 'mmi', 'location', 'dmin', 'gap', 'alert', 'latitude', 'depth', 'longitude']\n"
     ]
    }
   ],
   "source": [
    "# Feature Selection\n",
    "feature_selector_rf = RandomForestClassifier(n_estimators=100, random_state=42)\n",
    "rfe = RFE(estimator=feature_selector_rf, n_features_to_select=10)\n",
    "kbest = SelectKBest(score_func=mutual_info_classif, k=10)\n",
    "\n",
    "# Fit selectors\n",
    "rfe.fit(X_train_resampled, y_train_resampled)\n",
    "kbest.fit(X_train_resampled, y_train_resampled)\n",
    "feature_selector_rf.fit(X_train_resampled, y_train_resampled)\n",
    "\n",
    "# Get selected features\n",
    "feature_importance = pd.DataFrame({\n",
    "    'Feature': X_train.columns,\n",
    "    'Importance': feature_selector_rf.feature_importances_\n",
    "}).sort_values(by='Importance', ascending=False)\n",
    "\n",
    "selected_features = list(feature_importance.head(10)['Feature'])\n",
    "print(\"\\nTop 10 Selected Features:\", selected_features)\n"
   ]
  },
  {
   "cell_type": "code",
   "execution_count": 481,
   "metadata": {},
   "outputs": [],
   "source": [
    "from sklearn.model_selection import ShuffleSplit"
   ]
  },
  {
   "cell_type": "code",
   "execution_count": 482,
   "metadata": {},
   "outputs": [],
   "source": [
    "# Prepare final datasets\n",
    "X_train_final = X_train_resampled[selected_features]\n",
    "X_test_final = X_test[selected_features]\n",
    "\n",
    "# Model Training with ShuffleSplit\n",
    "n_splits = 3\n",
    "shuffle_split = ShuffleSplit(n_splits=n_splits, test_size=0.2, random_state=42)\n"
   ]
  },
  {
   "cell_type": "code",
   "execution_count": null,
   "metadata": {},
   "outputs": [],
   "source": [
    "# Prepare final datasets\n",
    "X_train_final = X_train_resampled[selected_features]\n",
    "X_test_final = X_test[selected_features]\n",
    "\n",
    "# Model Training with ShuffleSplit\n",
    "n_splits = 3\n",
    "shuffle_split = ShuffleSplit(n_splits=n_splits, test_size=0.2, random_state=42)\n"
   ]
  },
  {
   "cell_type": "code",
   "execution_count": 483,
   "metadata": {},
   "outputs": [],
   "source": [
    "from sklearn.metrics import classification_report, accuracy_score"
   ]
  },
  {
   "cell_type": "code",
   "execution_count": 484,
   "metadata": {},
   "outputs": [],
   "source": [
    "# Parameter grid for RFC\n",
    "param_grid = {\n",
    "    'n_estimators': [200],\n",
    "    'max_depth': [20],\n",
    "    'min_samples_split': [2],\n",
    "    'min_samples_leaf': [1]\n",
    "}"
   ]
  },
  {
   "cell_type": "code",
   "execution_count": 485,
   "metadata": {},
   "outputs": [
    {
     "name": "stdout",
     "output_type": "stream",
     "text": [
      "\n",
      "Fold 1 Accuracy: 0.8581\n",
      "\n",
      "Fold 2 Accuracy: 0.8823\n",
      "\n",
      "Fold 3 Accuracy: 0.8742\n",
      "\n",
      "Mean CV Score: 0.8715 (+/- 0.0101)\n"
     ]
    }
   ],
   "source": [
    "# Initialize lists to store results\n",
    "cv_scores = []\n",
    "models = []\n",
    "\n",
    "# Train and evaluate models using ShuffleSplit\n",
    "for fold, (train_idx, val_idx) in enumerate(shuffle_split.split(X_train_final), 1):\n",
    "    # Split data for current fold\n",
    "    X_fold_train = X_train_final.iloc[train_idx]\n",
    "    y_fold_train = y_train_resampled[train_idx]\n",
    "    X_fold_val = X_train_final.iloc[val_idx]\n",
    "    y_fold_val = y_train_resampled[val_idx]\n",
    "    \n",
    "    # Train model with best parameters from grid search\n",
    "    rfc = RandomForestClassifier(\n",
    "        n_estimators=200,\n",
    "        max_depth=20,\n",
    "        min_samples_split=2,\n",
    "        min_samples_leaf=1,\n",
    "        random_state=42\n",
    "    )\n",
    "    \n",
    "    # Fit and evaluate\n",
    "    rfc.fit(X_fold_train, y_fold_train)\n",
    "    y_fold_pred = rfc.predict(X_fold_val)\n",
    "    fold_score = accuracy_score(y_fold_val, y_fold_pred)\n",
    "    \n",
    "    cv_scores.append(fold_score)\n",
    "    models.append(rfc)\n",
    "    \n",
    "    print(f\"\\nFold {fold} Accuracy: {fold_score:.4f}\")\n",
    "\n",
    "# Print cross-validation results\n",
    "print(f\"\\nMean CV Score: {np.mean(cv_scores):.4f} (+/- {np.std(cv_scores):.4f})\")"
   ]
  },
  {
   "cell_type": "code",
   "execution_count": 486,
   "metadata": {},
   "outputs": [
    {
     "name": "stdout",
     "output_type": "stream",
     "text": [
      "\n",
      "Final Test Set Results:\n",
      "              precision    recall  f1-score   support\n",
      "\n",
      "           0       0.94      0.82      0.88        78\n",
      "           1       0.17      0.50      0.25         2\n",
      "           2       0.20      0.50      0.29         2\n",
      "           3       0.27      0.33      0.30         9\n",
      "           4       0.21      0.23      0.22        13\n",
      "           5       0.38      0.43      0.41        23\n",
      "           6       0.23      0.31      0.26        16\n",
      "           7       0.60      0.45      0.51        20\n",
      "           8       0.40      0.22      0.29        18\n",
      "           9       0.50      0.64      0.56        14\n",
      "\n",
      "    accuracy                           0.56       195\n",
      "   macro avg       0.39      0.44      0.40       195\n",
      "weighted avg       0.61      0.56      0.57       195\n",
      "\n",
      "Test Set Accuracy: 0.5590\n"
     ]
    }
   ],
   "source": [
    "# Select best model based on validation performance\n",
    "best_model_idx = np.argmax(cv_scores)\n",
    "best_rf = models[best_model_idx]\n",
    "\n",
    "# Final evaluation on test set\n",
    "y_pred_rf = best_rf.predict(X_test_final)\n",
    "print(\"\\nFinal Test Set Results:\")\n",
    "print(classification_report(y_test, y_pred_rf))\n",
    "print(f\"Test Set Accuracy: {accuracy_score(y_test, y_pred_rf):.4f}\")"
   ]
  },
  {
   "cell_type": "code",
   "execution_count": 487,
   "metadata": {},
   "outputs": [
    {
     "name": "stdout",
     "output_type": "stream",
     "text": [
      "\n",
      "All model artifacts saved in d:\\Akshat\\VS_Py\\dataquest_JBBR\\Notebooks\\Predictions' Training\\Models\n"
     ]
    }
   ],
   "source": [
    "# Create Models directory and save artifacts\n",
    "models_dir = Path.cwd() / \"Models\"\n",
    "models_dir.mkdir(exist_ok=True)\n",
    "\n",
    "# Save all necessary files\n",
    "files_to_save = {\n",
    "    'transformers.pkl': transformers,\n",
    "    'selected_features.pkl': selected_features,\n",
    "    'feature_info.pkl': {'categorical_features': list(categorical_features),\n",
    "                        'numerical_features': list(numerical_features)},\n",
    "    'cdi_model.pkl': best_rf\n",
    "}\n",
    "\n",
    "for filename, content in files_to_save.items():\n",
    "    with open(models_dir / filename, 'wb') as f:\n",
    "        pickle.dump(content, f)\n",
    "\n",
    "print(f\"\\nAll model artifacts saved in {models_dir}\")"
   ]
  }
 ],
 "metadata": {
  "kernelspec": {
   "display_name": "Python 3",
   "language": "python",
   "name": "python3"
  },
  "language_info": {
   "codemirror_mode": {
    "name": "ipython",
    "version": 3
   },
   "file_extension": ".py",
   "mimetype": "text/x-python",
   "name": "python",
   "nbconvert_exporter": "python",
   "pygments_lexer": "ipython3",
   "version": "3.10.11"
  }
 },
 "nbformat": 4,
 "nbformat_minor": 2
}
