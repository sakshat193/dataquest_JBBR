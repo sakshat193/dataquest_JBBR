{
 "cells": [
  {
   "cell_type": "code",
   "execution_count": 1,
   "id": "8772dd6c-f2db-4c1f-89a2-414941f1ee33",
   "metadata": {},
   "outputs": [],
   "source": [
    "import pandas as pd\n",
    "import numpy as np"
   ]
  },
  {
   "cell_type": "code",
   "execution_count": 2,
   "id": "30ede81a",
   "metadata": {},
   "outputs": [],
   "source": [
    "df = pd.read_csv(\"..\\Datasets\\\\0_earthquake_1995-2023.csv\")"
   ]
  },
  {
   "cell_type": "code",
   "execution_count": 3,
   "id": "0b1f32c7",
   "metadata": {},
   "outputs": [
    {
     "data": {
      "text/plain": [
       "array(['Vanuatu', 'El Salvador', 'Argentina', 'United States',\n",
       "       'Antigua and Barbuda', 'Tonga', 'Fiji', 'Colombia', 'France',\n",
       "       'Indonesia', 'New Zealand', 'Russian Federation',\n",
       "       'Papua New Guinea', 'Afghanistan', 'Ecuador', 'Tajikistan',\n",
       "       'Turkey', 'Solomon Islands', 'Panama', 'Mexico', 'Taiwan', 'China',\n",
       "       'Philippines', 'Brazil', 'Peru', 'Nicaragua', 'Japan', 'Cyprus',\n",
       "       'Antarctica', 'Haiti', 'Mongolia', 'Chile', 'Greece', 'Jamaica',\n",
       "       'United Kingdom', 'Australia', 'Norway', 'Canada', 'Venezuela',\n",
       "       'Bolivia', 'Honduras', 'Costa Rica', 'Iran', 'Guatemala',\n",
       "       'Botswana', 'Italy', 'Myanmar', 'India', 'Barbados', 'Nepal',\n",
       "       'Guam', 'Pakistan', 'Samoa', 'Kyrgyzstan', 'Mozambique',\n",
       "       'Tanzania', 'Algeria', 'Turkmenistan', 'Azerbaijan', 'Iceland',\n",
       "       'Trinidad and Tobago', 'Saudi Arabia'], dtype=object)"
      ]
     },
     "execution_count": 3,
     "metadata": {},
     "output_type": "execute_result"
    }
   ],
   "source": [
    "df['country'].unique()"
   ]
  },
  {
   "cell_type": "markdown",
   "id": "41882217",
   "metadata": {},
   "source": [
    "## Preprocessing"
   ]
  },
  {
   "cell_type": "markdown",
   "id": "8696122f",
   "metadata": {},
   "source": [
    "### Handling Nulls"
   ]
  },
  {
   "cell_type": "markdown",
   "id": "af370b70",
   "metadata": {},
   "source": [
    "#### - Handling Continent Null"
   ]
  },
  {
   "cell_type": "code",
   "execution_count": 4,
   "id": "94609514",
   "metadata": {},
   "outputs": [],
   "source": [
    "# Filling in null values of continent column\n",
    "import pycountry\n",
    "import pycountry_convert"
   ]
  },
  {
   "cell_type": "code",
   "execution_count": 5,
   "id": "6699d1fb",
   "metadata": {},
   "outputs": [],
   "source": [
    "def map_to_continent(df, country_col='country', location_col='location', continent_col='continent'):\n",
    "    \"\"\"\n",
    "    Map countries and locations to continents.\n",
    "\n",
    "    Parameters:\n",
    "    df (pandas.DataFrame): DataFrame containing country and location columns\n",
    "    country_col (str): Name of the country column\n",
    "    location_col (str): Name of the location column\n",
    "    continent_col (str): Name of the continent column to fill\n",
    "\n",
    "    Returns:\n",
    "    pandas.DataFrame: DataFrame with filled continent values\n",
    "    \"\"\"\n",
    "    df_copy = df.copy()\n",
    "\n",
    "    # Country to continent mapping using pycountry\n",
    "    def get_continent_from_country(country_name):\n",
    "        try:\n",
    "            # Use fuzzy search for better matches\n",
    "            if country_name.lower() == \"antarctica\":\n",
    "                return \"Antarctica\"\n",
    "            \n",
    "            country = pycountry.countries.search_fuzzy(country_name)[0]\n",
    "            if country:\n",
    "                continent_code = pycountry_convert.country_alpha2_to_continent_code(country.alpha_2)\n",
    "                return pycountry_convert.convert_continent_code_to_continent_name(continent_code)\n",
    "        except Exception as e:\n",
    "            print(f\"Error mapping country '{country_name}': {e}\")\n",
    "        return None\n",
    "\n",
    "    # Special location patterns to continent mapping\n",
    "    location_patterns = {\n",
    "        'Atlantic': 'Atlantic Ocean',\n",
    "        'Mid-Atlantic': 'Atlantic Ocean',\n",
    "        'Indian Ocean': 'Indian Ocean',\n",
    "        'Pacific': 'Pacific Ocean',\n",
    "        'Caribbean': 'North America',\n",
    "        'Antarctic': 'Antarctica',\n",
    "        'Kermadec': 'Oceania',\n",
    "        'Fiji': 'Oceania',\n",
    "        'Tonga': 'Oceania',\n",
    "        'Vanuatu': 'Oceania',\n",
    "        'Kuril': 'Asia',\n",
    "        'Alaska': 'North America',\n",
    "        'Philippines': 'Asia',\n",
    "        'Sumatra': 'Asia',\n",
    "        'Loyalty Islands': 'Oceania',\n",
    "        'Macquarie': 'Oceania',\n",
    "        'Australia': 'Australia'\n",
    "    }\n",
    "\n",
    "    def get_continent(row):\n",
    "        # If continent is already filled, return it\n",
    "        if pd.notna(row[continent_col]):\n",
    "            return row[continent_col]\n",
    "\n",
    "        # Try to get continent from country first\n",
    "        if pd.notna(row[country_col]):\n",
    "            continent = get_continent_from_country(row[country_col].strip())\n",
    "            if continent:\n",
    "                return continent\n",
    "\n",
    "        # If country not found or is null, try location patterns\n",
    "        if pd.notna(row[location_col]):\n",
    "            location = str(row[location_col]).lower()\n",
    "            for pattern, continent in location_patterns.items():\n",
    "                if pattern.lower() in location:\n",
    "                    return continent\n",
    "\n",
    "        return None\n",
    "\n",
    "    # Apply the mapping\n",
    "    mask = df_copy[continent_col].isna()\n",
    "    if mask.any():\n",
    "        df_copy.loc[mask, continent_col] = df_copy[mask].apply(get_continent, axis=1)\n",
    "\n",
    "    # Print statistics\n",
    "    unmapped = df_copy[df_copy[continent_col].isna()]\n",
    "    if not unmapped.empty:\n",
    "        print(\"\\nUnmapped locations:\")\n",
    "        print(unmapped[[country_col, location_col]].drop_duplicates())\n",
    "\n",
    "    return df_copy\n",
    "\n"
   ]
  },
  {
   "cell_type": "code",
   "execution_count": 6,
   "id": "18aee637",
   "metadata": {},
   "outputs": [],
   "source": [
    "df = map_to_continent(df)"
   ]
  },
  {
   "cell_type": "code",
   "execution_count": 7,
   "id": "78fea182",
   "metadata": {},
   "outputs": [
    {
     "data": {
      "text/plain": [
       "title          0\n",
       "magnitude      0\n",
       "cdi            0\n",
       "mmi            0\n",
       "alert        548\n",
       "tsunami        0\n",
       "sig            0\n",
       "net            0\n",
       "nst            0\n",
       "dmin           0\n",
       "gap            0\n",
       "magType        0\n",
       "depth          0\n",
       "latitude       0\n",
       "longitude      0\n",
       "location       0\n",
       "continent      0\n",
       "country        0\n",
       "day            0\n",
       "month          0\n",
       "year           0\n",
       "dtype: int64"
      ]
     },
     "execution_count": 7,
     "metadata": {},
     "output_type": "execute_result"
    }
   ],
   "source": [
    "df.isna().sum()"
   ]
  },
  {
   "cell_type": "code",
   "execution_count": 8,
   "id": "fa9e1976",
   "metadata": {},
   "outputs": [
    {
     "data": {
      "text/html": [
       "<div>\n",
       "<style scoped>\n",
       "    .dataframe tbody tr th:only-of-type {\n",
       "        vertical-align: middle;\n",
       "    }\n",
       "\n",
       "    .dataframe tbody tr th {\n",
       "        vertical-align: top;\n",
       "    }\n",
       "\n",
       "    .dataframe thead th {\n",
       "        text-align: right;\n",
       "    }\n",
       "</style>\n",
       "<table border=\"1\" class=\"dataframe\">\n",
       "  <thead>\n",
       "    <tr style=\"text-align: right;\">\n",
       "      <th></th>\n",
       "      <th>title</th>\n",
       "      <th>magnitude</th>\n",
       "      <th>cdi</th>\n",
       "      <th>mmi</th>\n",
       "      <th>alert</th>\n",
       "      <th>tsunami</th>\n",
       "      <th>sig</th>\n",
       "      <th>net</th>\n",
       "      <th>nst</th>\n",
       "      <th>dmin</th>\n",
       "      <th>...</th>\n",
       "      <th>magType</th>\n",
       "      <th>depth</th>\n",
       "      <th>latitude</th>\n",
       "      <th>longitude</th>\n",
       "      <th>location</th>\n",
       "      <th>continent</th>\n",
       "      <th>country</th>\n",
       "      <th>day</th>\n",
       "      <th>month</th>\n",
       "      <th>year</th>\n",
       "    </tr>\n",
       "  </thead>\n",
       "  <tbody>\n",
       "    <tr>\n",
       "      <th>0</th>\n",
       "      <td>M 6.5 - 42 km W of Sola, Vanuatu</td>\n",
       "      <td>6.5</td>\n",
       "      <td>7</td>\n",
       "      <td>4</td>\n",
       "      <td>green</td>\n",
       "      <td>0</td>\n",
       "      <td>657</td>\n",
       "      <td>us</td>\n",
       "      <td>114</td>\n",
       "      <td>7.177</td>\n",
       "      <td>...</td>\n",
       "      <td>mww</td>\n",
       "      <td>192.955</td>\n",
       "      <td>-13.88</td>\n",
       "      <td>167.16</td>\n",
       "      <td>Sola, Vanuatu</td>\n",
       "      <td>Oceania</td>\n",
       "      <td>Vanuatu</td>\n",
       "      <td>16</td>\n",
       "      <td>8</td>\n",
       "      <td>2023</td>\n",
       "    </tr>\n",
       "    <tr>\n",
       "      <th>1</th>\n",
       "      <td>M 6.5 - 43 km S of Intipucá, El Salvador</td>\n",
       "      <td>6.5</td>\n",
       "      <td>8</td>\n",
       "      <td>6</td>\n",
       "      <td>yellow</td>\n",
       "      <td>0</td>\n",
       "      <td>775</td>\n",
       "      <td>us</td>\n",
       "      <td>92</td>\n",
       "      <td>0.679</td>\n",
       "      <td>...</td>\n",
       "      <td>mww</td>\n",
       "      <td>69.727</td>\n",
       "      <td>12.81</td>\n",
       "      <td>-88.13</td>\n",
       "      <td>Intipucá, El Salvador</td>\n",
       "      <td>North America</td>\n",
       "      <td>El Salvador</td>\n",
       "      <td>19</td>\n",
       "      <td>7</td>\n",
       "      <td>2023</td>\n",
       "    </tr>\n",
       "    <tr>\n",
       "      <th>2</th>\n",
       "      <td>M 6.6 - 25 km ESE of Loncopué, Argentina</td>\n",
       "      <td>6.6</td>\n",
       "      <td>7</td>\n",
       "      <td>5</td>\n",
       "      <td>green</td>\n",
       "      <td>0</td>\n",
       "      <td>899</td>\n",
       "      <td>us</td>\n",
       "      <td>70</td>\n",
       "      <td>1.634</td>\n",
       "      <td>...</td>\n",
       "      <td>mww</td>\n",
       "      <td>171.371</td>\n",
       "      <td>-38.19</td>\n",
       "      <td>-70.37</td>\n",
       "      <td>Loncopué, Argentina</td>\n",
       "      <td>South America</td>\n",
       "      <td>Argentina</td>\n",
       "      <td>17</td>\n",
       "      <td>7</td>\n",
       "      <td>2023</td>\n",
       "    </tr>\n",
       "  </tbody>\n",
       "</table>\n",
       "<p>3 rows × 21 columns</p>\n",
       "</div>"
      ],
      "text/plain": [
       "                                      title  magnitude  cdi  mmi   alert  \\\n",
       "0          M 6.5 - 42 km W of Sola, Vanuatu        6.5    7    4   green   \n",
       "1  M 6.5 - 43 km S of Intipucá, El Salvador        6.5    8    6  yellow   \n",
       "2  M 6.6 - 25 km ESE of Loncopué, Argentina        6.6    7    5   green   \n",
       "\n",
       "   tsunami  sig net  nst   dmin  ...  magType    depth  latitude  longitude  \\\n",
       "0        0  657  us  114  7.177  ...      mww  192.955    -13.88     167.16   \n",
       "1        0  775  us   92  0.679  ...      mww   69.727     12.81     -88.13   \n",
       "2        0  899  us   70  1.634  ...      mww  171.371    -38.19     -70.37   \n",
       "\n",
       "                location      continent      country day  month  year  \n",
       "0          Sola, Vanuatu        Oceania      Vanuatu  16      8  2023  \n",
       "1  Intipucá, El Salvador  North America  El Salvador  19      7  2023  \n",
       "2    Loncopué, Argentina  South America    Argentina  17      7  2023  \n",
       "\n",
       "[3 rows x 21 columns]"
      ]
     },
     "execution_count": 8,
     "metadata": {},
     "output_type": "execute_result"
    }
   ],
   "source": [
    "df.head(3)"
   ]
  },
  {
   "cell_type": "code",
   "execution_count": 9,
   "id": "9fcb6103",
   "metadata": {},
   "outputs": [
    {
     "data": {
      "text/plain": [
       "array(['Oceania', 'North America', 'South America', 'Europe', 'Asia',\n",
       "       'Antarctica', 'Africa'], dtype=object)"
      ]
     },
     "execution_count": 9,
     "metadata": {},
     "output_type": "execute_result"
    }
   ],
   "source": [
    "df[\"continent\"].unique()"
   ]
  },
  {
   "cell_type": "code",
   "execution_count": 10,
   "id": "5fecd977",
   "metadata": {},
   "outputs": [
    {
     "data": {
      "text/plain": [
       "array(['Vanuatu', 'El Salvador', 'Argentina', 'United States',\n",
       "       'Antigua and Barbuda', 'Tonga', 'Fiji', 'Colombia', 'France',\n",
       "       'Indonesia', 'New Zealand', 'Russian Federation',\n",
       "       'Papua New Guinea', 'Afghanistan', 'Ecuador', 'Tajikistan',\n",
       "       'Turkey', 'Solomon Islands', 'Panama', 'Mexico', 'Taiwan', 'China',\n",
       "       'Philippines', 'Brazil', 'Peru', 'Nicaragua', 'Japan', 'Cyprus',\n",
       "       'Antarctica', 'Haiti', 'Mongolia', 'Chile', 'Greece', 'Jamaica',\n",
       "       'United Kingdom', 'Australia', 'Norway', 'Canada', 'Venezuela',\n",
       "       'Bolivia', 'Honduras', 'Costa Rica', 'Iran', 'Guatemala',\n",
       "       'Botswana', 'Italy', 'Myanmar', 'India', 'Barbados', 'Nepal',\n",
       "       'Guam', 'Pakistan', 'Samoa', 'Kyrgyzstan', 'Mozambique',\n",
       "       'Tanzania', 'Algeria', 'Turkmenistan', 'Azerbaijan', 'Iceland',\n",
       "       'Trinidad and Tobago', 'Saudi Arabia'], dtype=object)"
      ]
     },
     "execution_count": 10,
     "metadata": {},
     "output_type": "execute_result"
    }
   ],
   "source": [
    "df[\"country\"].unique()"
   ]
  },
  {
   "cell_type": "code",
   "execution_count": 11,
   "id": "301eb8b3",
   "metadata": {},
   "outputs": [],
   "source": [
    "df.loc[df[\"country\"]== \"United Kingdom of Great Britain and Northern Ireland (the)\" ,\"continent\"] = \"Europe\""
   ]
  },
  {
   "cell_type": "code",
   "execution_count": 12,
   "id": "f82cd1e1",
   "metadata": {},
   "outputs": [
    {
     "data": {
      "text/plain": [
       "title          0\n",
       "magnitude      0\n",
       "cdi            0\n",
       "mmi            0\n",
       "alert        548\n",
       "tsunami        0\n",
       "sig            0\n",
       "net            0\n",
       "nst            0\n",
       "dmin           0\n",
       "gap            0\n",
       "magType        0\n",
       "depth          0\n",
       "latitude       0\n",
       "longitude      0\n",
       "location       0\n",
       "continent      0\n",
       "country        0\n",
       "day            0\n",
       "month          0\n",
       "year           0\n",
       "dtype: int64"
      ]
     },
     "execution_count": 12,
     "metadata": {},
     "output_type": "execute_result"
    }
   ],
   "source": [
    "df.isna().sum()"
   ]
  },
  {
   "cell_type": "code",
   "execution_count": 13,
   "id": "572196f0",
   "metadata": {},
   "outputs": [],
   "source": [
    "\n",
    "output_file = \"../Datasets/1_earthquake_1995-2023.csv\"\n",
    "df.to_csv(output_file, index=False)"
   ]
  },
  {
   "cell_type": "code",
   "execution_count": null,
   "id": "e7816392",
   "metadata": {},
   "outputs": [],
   "source": []
  }
 ],
 "metadata": {
  "kernelspec": {
   "display_name": "Python 3",
   "language": "python",
   "name": "python3"
  },
  "language_info": {
   "codemirror_mode": {
    "name": "ipython",
    "version": 3
   },
   "file_extension": ".py",
   "mimetype": "text/x-python",
   "name": "python",
   "nbconvert_exporter": "python",
   "pygments_lexer": "ipython3",
   "version": "3.10.11"
  }
 },
 "nbformat": 4,
 "nbformat_minor": 5
}
