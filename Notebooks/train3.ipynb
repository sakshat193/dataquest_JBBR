{
 "cells": [
  {
   "cell_type": "code",
   "execution_count": 121,
   "metadata": {},
   "outputs": [],
   "source": [
    "import pandas as pd\n",
    "import numpy as np\n",
    "import matplotlib.pyplot as plt "
   ]
  },
  {
   "cell_type": "code",
   "execution_count": 122,
   "metadata": {},
   "outputs": [],
   "source": [
    "import warnings\n",
    "warnings.filterwarnings('ignore')"
   ]
  },
  {
   "cell_type": "code",
   "execution_count": 123,
   "metadata": {},
   "outputs": [],
   "source": [
    "df = pd.read_csv('..\\Datasets\\\\2_earthquake_1995-2023.csv')"
   ]
  },
  {
   "cell_type": "code",
   "execution_count": 124,
   "metadata": {},
   "outputs": [
    {
     "name": "stdout",
     "output_type": "stream",
     "text": [
      "(974, 21)\n"
     ]
    },
    {
     "data": {
      "text/html": [
       "<div>\n",
       "<style scoped>\n",
       "    .dataframe tbody tr th:only-of-type {\n",
       "        vertical-align: middle;\n",
       "    }\n",
       "\n",
       "    .dataframe tbody tr th {\n",
       "        vertical-align: top;\n",
       "    }\n",
       "\n",
       "    .dataframe thead th {\n",
       "        text-align: right;\n",
       "    }\n",
       "</style>\n",
       "<table border=\"1\" class=\"dataframe\">\n",
       "  <thead>\n",
       "    <tr style=\"text-align: right;\">\n",
       "      <th></th>\n",
       "      <th>title</th>\n",
       "      <th>magnitude</th>\n",
       "      <th>cdi</th>\n",
       "      <th>mmi</th>\n",
       "      <th>alert</th>\n",
       "      <th>tsunami</th>\n",
       "      <th>sig</th>\n",
       "      <th>net</th>\n",
       "      <th>nst</th>\n",
       "      <th>dmin</th>\n",
       "      <th>...</th>\n",
       "      <th>magType</th>\n",
       "      <th>depth</th>\n",
       "      <th>latitude</th>\n",
       "      <th>longitude</th>\n",
       "      <th>location</th>\n",
       "      <th>continent</th>\n",
       "      <th>country</th>\n",
       "      <th>day</th>\n",
       "      <th>month</th>\n",
       "      <th>year</th>\n",
       "    </tr>\n",
       "  </thead>\n",
       "  <tbody>\n",
       "    <tr>\n",
       "      <th>0</th>\n",
       "      <td>M 6.5 - 42 km W of Sola, Vanuatu</td>\n",
       "      <td>6.5</td>\n",
       "      <td>7</td>\n",
       "      <td>4</td>\n",
       "      <td>green</td>\n",
       "      <td>0</td>\n",
       "      <td>657</td>\n",
       "      <td>us</td>\n",
       "      <td>114</td>\n",
       "      <td>7.177000</td>\n",
       "      <td>...</td>\n",
       "      <td>mww</td>\n",
       "      <td>192.955</td>\n",
       "      <td>-13.88</td>\n",
       "      <td>167.16</td>\n",
       "      <td>Sola, Vanuatu</td>\n",
       "      <td>Oceania</td>\n",
       "      <td>Vanuatu</td>\n",
       "      <td>16</td>\n",
       "      <td>8</td>\n",
       "      <td>2023</td>\n",
       "    </tr>\n",
       "    <tr>\n",
       "      <th>1</th>\n",
       "      <td>M 6.5 - 43 km S of Intipucá, El Salvador</td>\n",
       "      <td>6.5</td>\n",
       "      <td>8</td>\n",
       "      <td>6</td>\n",
       "      <td>yellow</td>\n",
       "      <td>0</td>\n",
       "      <td>775</td>\n",
       "      <td>us</td>\n",
       "      <td>92</td>\n",
       "      <td>0.679000</td>\n",
       "      <td>...</td>\n",
       "      <td>mww</td>\n",
       "      <td>69.727</td>\n",
       "      <td>12.81</td>\n",
       "      <td>-88.13</td>\n",
       "      <td>Intipucá, El Salvador</td>\n",
       "      <td>North America</td>\n",
       "      <td>El Salvador</td>\n",
       "      <td>19</td>\n",
       "      <td>7</td>\n",
       "      <td>2023</td>\n",
       "    </tr>\n",
       "    <tr>\n",
       "      <th>2</th>\n",
       "      <td>M 6.6 - 25 km ESE of Loncopué, Argentina</td>\n",
       "      <td>6.6</td>\n",
       "      <td>7</td>\n",
       "      <td>5</td>\n",
       "      <td>green</td>\n",
       "      <td>0</td>\n",
       "      <td>899</td>\n",
       "      <td>us</td>\n",
       "      <td>70</td>\n",
       "      <td>1.634000</td>\n",
       "      <td>...</td>\n",
       "      <td>mww</td>\n",
       "      <td>171.371</td>\n",
       "      <td>-38.19</td>\n",
       "      <td>-70.37</td>\n",
       "      <td>Loncopué, Argentina</td>\n",
       "      <td>South America</td>\n",
       "      <td>Argentina</td>\n",
       "      <td>17</td>\n",
       "      <td>7</td>\n",
       "      <td>2023</td>\n",
       "    </tr>\n",
       "    <tr>\n",
       "      <th>3</th>\n",
       "      <td>M 7.2 - 98 km S of Sand Point, Alaska</td>\n",
       "      <td>7.2</td>\n",
       "      <td>6</td>\n",
       "      <td>6</td>\n",
       "      <td>green</td>\n",
       "      <td>1</td>\n",
       "      <td>860</td>\n",
       "      <td>us</td>\n",
       "      <td>173</td>\n",
       "      <td>0.907000</td>\n",
       "      <td>...</td>\n",
       "      <td>mww</td>\n",
       "      <td>32.571</td>\n",
       "      <td>54.38</td>\n",
       "      <td>-160.70</td>\n",
       "      <td>Sand Point, Alaska</td>\n",
       "      <td>North America</td>\n",
       "      <td>United States</td>\n",
       "      <td>16</td>\n",
       "      <td>7</td>\n",
       "      <td>2023</td>\n",
       "    </tr>\n",
       "    <tr>\n",
       "      <th>4</th>\n",
       "      <td>M 7.3 - Alaska Peninsula</td>\n",
       "      <td>7.3</td>\n",
       "      <td>0</td>\n",
       "      <td>5</td>\n",
       "      <td>No alert</td>\n",
       "      <td>1</td>\n",
       "      <td>820</td>\n",
       "      <td>at</td>\n",
       "      <td>79</td>\n",
       "      <td>0.879451</td>\n",
       "      <td>...</td>\n",
       "      <td>Mi</td>\n",
       "      <td>21.000</td>\n",
       "      <td>54.49</td>\n",
       "      <td>-160.80</td>\n",
       "      <td>Alaska Peninsula</td>\n",
       "      <td>North America</td>\n",
       "      <td>United States</td>\n",
       "      <td>16</td>\n",
       "      <td>7</td>\n",
       "      <td>2023</td>\n",
       "    </tr>\n",
       "  </tbody>\n",
       "</table>\n",
       "<p>5 rows × 21 columns</p>\n",
       "</div>"
      ],
      "text/plain": [
       "                                      title  magnitude  cdi  mmi     alert  \\\n",
       "0          M 6.5 - 42 km W of Sola, Vanuatu        6.5    7    4     green   \n",
       "1  M 6.5 - 43 km S of Intipucá, El Salvador        6.5    8    6    yellow   \n",
       "2  M 6.6 - 25 km ESE of Loncopué, Argentina        6.6    7    5     green   \n",
       "3     M 7.2 - 98 km S of Sand Point, Alaska        7.2    6    6     green   \n",
       "4                  M 7.3 - Alaska Peninsula        7.3    0    5  No alert   \n",
       "\n",
       "   tsunami  sig net  nst      dmin  ...  magType    depth  latitude  \\\n",
       "0        0  657  us  114  7.177000  ...      mww  192.955    -13.88   \n",
       "1        0  775  us   92  0.679000  ...      mww   69.727     12.81   \n",
       "2        0  899  us   70  1.634000  ...      mww  171.371    -38.19   \n",
       "3        1  860  us  173  0.907000  ...      mww   32.571     54.38   \n",
       "4        1  820  at   79  0.879451  ...       Mi   21.000     54.49   \n",
       "\n",
       "   longitude               location      continent        country day  month  \\\n",
       "0     167.16          Sola, Vanuatu        Oceania        Vanuatu  16      8   \n",
       "1     -88.13  Intipucá, El Salvador  North America    El Salvador  19      7   \n",
       "2     -70.37    Loncopué, Argentina  South America      Argentina  17      7   \n",
       "3    -160.70     Sand Point, Alaska  North America  United States  16      7   \n",
       "4    -160.80       Alaska Peninsula  North America  United States  16      7   \n",
       "\n",
       "   year  \n",
       "0  2023  \n",
       "1  2023  \n",
       "2  2023  \n",
       "3  2023  \n",
       "4  2023  \n",
       "\n",
       "[5 rows x 21 columns]"
      ]
     },
     "execution_count": 124,
     "metadata": {},
     "output_type": "execute_result"
    }
   ],
   "source": [
    "print(df.shape)\n",
    "df.head()"
   ]
  },
  {
   "cell_type": "code",
   "execution_count": 125,
   "metadata": {},
   "outputs": [
    {
     "name": "stdout",
     "output_type": "stream",
     "text": [
      "<class 'pandas.core.frame.DataFrame'>\n",
      "RangeIndex: 974 entries, 0 to 973\n",
      "Data columns (total 21 columns):\n",
      " #   Column     Non-Null Count  Dtype  \n",
      "---  ------     --------------  -----  \n",
      " 0   title      974 non-null    object \n",
      " 1   magnitude  974 non-null    float64\n",
      " 2   cdi        974 non-null    int64  \n",
      " 3   mmi        974 non-null    int64  \n",
      " 4   alert      858 non-null    object \n",
      " 5   tsunami    974 non-null    int64  \n",
      " 6   sig        974 non-null    int64  \n",
      " 7   net        974 non-null    object \n",
      " 8   nst        974 non-null    int64  \n",
      " 9   dmin       974 non-null    float64\n",
      " 10  gap        974 non-null    float64\n",
      " 11  magType    974 non-null    object \n",
      " 12  depth      974 non-null    float64\n",
      " 13  latitude   974 non-null    float64\n",
      " 14  longitude  974 non-null    float64\n",
      " 15  location   974 non-null    object \n",
      " 16  continent  974 non-null    object \n",
      " 17  country    974 non-null    object \n",
      " 18  day        974 non-null    int64  \n",
      " 19  month      974 non-null    int64  \n",
      " 20  year       974 non-null    int64  \n",
      "dtypes: float64(6), int64(8), object(7)\n",
      "memory usage: 159.9+ KB\n"
     ]
    }
   ],
   "source": [
    "df.info()"
   ]
  },
  {
   "cell_type": "markdown",
   "metadata": {},
   "source": [
    "## Preprocessing"
   ]
  },
  {
   "cell_type": "markdown",
   "metadata": {},
   "source": [
    "### Handling Nulls"
   ]
  },
  {
   "cell_type": "markdown",
   "metadata": {},
   "source": [
    "#### - Handling Alert Nulls"
   ]
  },
  {
   "cell_type": "code",
   "execution_count": 126,
   "metadata": {},
   "outputs": [
    {
     "data": {
      "text/html": [
       "<div>\n",
       "<style scoped>\n",
       "    .dataframe tbody tr th:only-of-type {\n",
       "        vertical-align: middle;\n",
       "    }\n",
       "\n",
       "    .dataframe tbody tr th {\n",
       "        vertical-align: top;\n",
       "    }\n",
       "\n",
       "    .dataframe thead th {\n",
       "        text-align: right;\n",
       "    }\n",
       "</style>\n",
       "<table border=\"1\" class=\"dataframe\">\n",
       "  <thead>\n",
       "    <tr style=\"text-align: right;\">\n",
       "      <th></th>\n",
       "      <th>title</th>\n",
       "      <th>magnitude</th>\n",
       "      <th>cdi</th>\n",
       "      <th>mmi</th>\n",
       "      <th>alert</th>\n",
       "      <th>tsunami</th>\n",
       "      <th>sig</th>\n",
       "      <th>net</th>\n",
       "      <th>nst</th>\n",
       "      <th>dmin</th>\n",
       "      <th>...</th>\n",
       "      <th>magType</th>\n",
       "      <th>depth</th>\n",
       "      <th>latitude</th>\n",
       "      <th>longitude</th>\n",
       "      <th>location</th>\n",
       "      <th>continent</th>\n",
       "      <th>country</th>\n",
       "      <th>day</th>\n",
       "      <th>month</th>\n",
       "      <th>year</th>\n",
       "    </tr>\n",
       "  </thead>\n",
       "  <tbody>\n",
       "    <tr>\n",
       "      <th>0</th>\n",
       "      <td>M 6.5 - 42 km W of Sola, Vanuatu</td>\n",
       "      <td>6.5</td>\n",
       "      <td>7</td>\n",
       "      <td>4</td>\n",
       "      <td>green</td>\n",
       "      <td>0</td>\n",
       "      <td>657</td>\n",
       "      <td>us</td>\n",
       "      <td>114</td>\n",
       "      <td>7.177</td>\n",
       "      <td>...</td>\n",
       "      <td>mww</td>\n",
       "      <td>192.955</td>\n",
       "      <td>-13.88</td>\n",
       "      <td>167.16</td>\n",
       "      <td>Sola, Vanuatu</td>\n",
       "      <td>Oceania</td>\n",
       "      <td>Vanuatu</td>\n",
       "      <td>16</td>\n",
       "      <td>8</td>\n",
       "      <td>2023</td>\n",
       "    </tr>\n",
       "    <tr>\n",
       "      <th>1</th>\n",
       "      <td>M 6.5 - 43 km S of Intipucá, El Salvador</td>\n",
       "      <td>6.5</td>\n",
       "      <td>8</td>\n",
       "      <td>6</td>\n",
       "      <td>yellow</td>\n",
       "      <td>0</td>\n",
       "      <td>775</td>\n",
       "      <td>us</td>\n",
       "      <td>92</td>\n",
       "      <td>0.679</td>\n",
       "      <td>...</td>\n",
       "      <td>mww</td>\n",
       "      <td>69.727</td>\n",
       "      <td>12.81</td>\n",
       "      <td>-88.13</td>\n",
       "      <td>Intipucá, El Salvador</td>\n",
       "      <td>North America</td>\n",
       "      <td>El Salvador</td>\n",
       "      <td>19</td>\n",
       "      <td>7</td>\n",
       "      <td>2023</td>\n",
       "    </tr>\n",
       "    <tr>\n",
       "      <th>2</th>\n",
       "      <td>M 6.6 - 25 km ESE of Loncopué, Argentina</td>\n",
       "      <td>6.6</td>\n",
       "      <td>7</td>\n",
       "      <td>5</td>\n",
       "      <td>green</td>\n",
       "      <td>0</td>\n",
       "      <td>899</td>\n",
       "      <td>us</td>\n",
       "      <td>70</td>\n",
       "      <td>1.634</td>\n",
       "      <td>...</td>\n",
       "      <td>mww</td>\n",
       "      <td>171.371</td>\n",
       "      <td>-38.19</td>\n",
       "      <td>-70.37</td>\n",
       "      <td>Loncopué, Argentina</td>\n",
       "      <td>South America</td>\n",
       "      <td>Argentina</td>\n",
       "      <td>17</td>\n",
       "      <td>7</td>\n",
       "      <td>2023</td>\n",
       "    </tr>\n",
       "  </tbody>\n",
       "</table>\n",
       "<p>3 rows × 21 columns</p>\n",
       "</div>"
      ],
      "text/plain": [
       "                                      title  magnitude  cdi  mmi   alert  \\\n",
       "0          M 6.5 - 42 km W of Sola, Vanuatu        6.5    7    4   green   \n",
       "1  M 6.5 - 43 km S of Intipucá, El Salvador        6.5    8    6  yellow   \n",
       "2  M 6.6 - 25 km ESE of Loncopué, Argentina        6.6    7    5   green   \n",
       "\n",
       "   tsunami  sig net  nst   dmin  ...  magType    depth  latitude  longitude  \\\n",
       "0        0  657  us  114  7.177  ...      mww  192.955    -13.88     167.16   \n",
       "1        0  775  us   92  0.679  ...      mww   69.727     12.81     -88.13   \n",
       "2        0  899  us   70  1.634  ...      mww  171.371    -38.19     -70.37   \n",
       "\n",
       "                location      continent      country day  month  year  \n",
       "0          Sola, Vanuatu        Oceania      Vanuatu  16      8  2023  \n",
       "1  Intipucá, El Salvador  North America  El Salvador  19      7  2023  \n",
       "2    Loncopué, Argentina  South America    Argentina  17      7  2023  \n",
       "\n",
       "[3 rows x 21 columns]"
      ]
     },
     "execution_count": 126,
     "metadata": {},
     "output_type": "execute_result"
    }
   ],
   "source": [
    "data = df[~df['alert'].isna()]\n",
    "data.head(3)"
   ]
  },
  {
   "cell_type": "code",
   "execution_count": 127,
   "metadata": {},
   "outputs": [
    {
     "name": "stdout",
     "output_type": "stream",
     "text": [
      "<class 'pandas.core.frame.DataFrame'>\n",
      "Index: 858 entries, 0 to 973\n",
      "Data columns (total 21 columns):\n",
      " #   Column     Non-Null Count  Dtype  \n",
      "---  ------     --------------  -----  \n",
      " 0   title      858 non-null    object \n",
      " 1   magnitude  858 non-null    float64\n",
      " 2   cdi        858 non-null    int64  \n",
      " 3   mmi        858 non-null    int64  \n",
      " 4   alert      858 non-null    object \n",
      " 5   tsunami    858 non-null    int64  \n",
      " 6   sig        858 non-null    int64  \n",
      " 7   net        858 non-null    object \n",
      " 8   nst        858 non-null    int64  \n",
      " 9   dmin       858 non-null    float64\n",
      " 10  gap        858 non-null    float64\n",
      " 11  magType    858 non-null    object \n",
      " 12  depth      858 non-null    float64\n",
      " 13  latitude   858 non-null    float64\n",
      " 14  longitude  858 non-null    float64\n",
      " 15  location   858 non-null    object \n",
      " 16  continent  858 non-null    object \n",
      " 17  country    858 non-null    object \n",
      " 18  day        858 non-null    int64  \n",
      " 19  month      858 non-null    int64  \n",
      " 20  year       858 non-null    int64  \n",
      "dtypes: float64(6), int64(8), object(7)\n",
      "memory usage: 147.5+ KB\n"
     ]
    }
   ],
   "source": [
    "data.info()"
   ]
  },
  {
   "cell_type": "markdown",
   "metadata": {},
   "source": [
    "# Alert imputation"
   ]
  },
  {
   "cell_type": "markdown",
   "metadata": {},
   "source": [
    "### Training Model"
   ]
  },
  {
   "cell_type": "code",
   "execution_count": 128,
   "metadata": {},
   "outputs": [],
   "source": [
    "from sklearn.preprocessing import LabelEncoder, StandardScaler\n",
    "from imblearn.over_sampling import SMOTE\n",
    "import pickle"
   ]
  },
  {
   "cell_type": "code",
   "execution_count": 129,
   "metadata": {},
   "outputs": [],
   "source": [
    "import os\n",
    "models_folder = 'Models'\n",
    "os.makedirs(models_folder, exist_ok=True)"
   ]
  },
  {
   "cell_type": "code",
   "execution_count": 130,
   "metadata": {},
   "outputs": [
    {
     "name": "stdout",
     "output_type": "stream",
     "text": [
      "Label Encoding Mapping: {'No alert': 0, 'green': 1, 'orange': 2, 'red': 3, 'yellow': 4}\n",
      "Label Encoder saved to 'Models/label_encoder.pkl'\n",
      "Label Encoder saved to 'Models/scaler.pkl'\n",
      "Resampled data saved to 'Models/X_resampled.csv' and 'Models/y_resampled.csv'\n",
      "Data encoding and resampling complete.\n"
     ]
    }
   ],
   "source": [
    "# Select features\n",
    "# selected_features = [\n",
    "#     'magnitude', 'latitude', 'longitude', 'depth', 'tsunami'\n",
    "# ]\n",
    "\n",
    "# Select features\n",
    "selected_features = [\n",
    "    'dmin', 'sig', 'magnitude', 'tsunami', 'depth'\n",
    "]\n",
    "\n",
    "X = data[selected_features]\n",
    "y = data['alert']\n",
    "\n",
    "# Encode categorical target variable\n",
    "label_encoder = LabelEncoder()\n",
    "y_encoded = label_encoder.fit_transform(y)\n",
    "\n",
    "# Save label encoding mapping\n",
    "label_mapping = dict(zip(label_encoder.classes_, range(len(label_encoder.classes_))))\n",
    "print(\"Label Encoding Mapping:\", label_mapping)\n",
    "\n",
    "# Saving the Label Encoder\n",
    "with open(\"..\\\\Notebooks\\\\Models\\\\label_encoder.pkl\", \"wb\") as f:\n",
    "    pickle.dump(label_encoder, f)\n",
    "print(\"Label Encoder saved to 'Models/label_encoder.pkl'\")\n",
    "\n",
    "# Scale numeric features\n",
    "scaler = StandardScaler()\n",
    "X_scaled = scaler.fit_transform(X[selected_features])\n",
    "\n",
    "# Saving the Scaler\n",
    "with open(\"..\\\\Notebooks\\\\Models\\\\scaler.pkl\", \"wb\") as f:\n",
    "    pickle.dump(scaler, f)\n",
    "print(\"Label Encoder saved to 'Models/scaler.pkl'\")\n",
    "\n",
    "# Handle class imbalance using SMOTE\n",
    "smote = SMOTE(random_state=42)\n",
    "X_resampled, y_resampled = smote.fit_resample(pd.DataFrame(X_scaled, columns=selected_features), y_encoded)\n",
    "\n",
    "# Saving the resampled data\n",
    "X_resampled.to_csv(os.path.join(models_folder, 'X_resampled.csv'), index=False)\n",
    "pd.DataFrame(y_resampled, columns=['alert']).to_csv(os.path.join(models_folder, 'y_resampled.csv'), index=False)\n",
    "print(\"Resampled data saved to 'Models/X_resampled.csv' and 'Models/y_resampled.csv'\")\n",
    "\n",
    "print(\"Data encoding and resampling complete.\")\n"
   ]
  },
  {
   "cell_type": "code",
   "execution_count": 131,
   "metadata": {},
   "outputs": [],
   "source": [
    "from sklearn.model_selection import StratifiedKFold"
   ]
  },
  {
   "cell_type": "code",
   "execution_count": 132,
   "metadata": {},
   "outputs": [],
   "source": [
    "# Define StratifiedKFold\n",
    "stratified_kfold = StratifiedKFold(n_splits=5, shuffle=True, random_state=42)\n",
    "\n",
    "# Create splits\n",
    "splits = stratified_kfold.split(X_resampled, y_resampled)"
   ]
  },
  {
   "cell_type": "code",
   "execution_count": 133,
   "metadata": {},
   "outputs": [],
   "source": [
    "from xgboost import XGBClassifier\n",
    "from sklearn.model_selection import GridSearchCV"
   ]
  },
  {
   "cell_type": "code",
   "execution_count": 134,
   "metadata": {},
   "outputs": [],
   "source": [
    "# Define parameter grid for XGBoost\n",
    "param_grid = {\n",
    "    'n_estimators': [100, 300, 500],         # Number of trees\n",
    "    'max_depth': [3, 5, 10],                # Maximum depth of a tree\n",
    "    'learning_rate': [0.01, 0.1, 0.2],      # Step size shrinkage\n",
    "    'subsample': [0.8, 1.0],                # Subsample ratio of training samples\n",
    "    'colsample_bytree': [0.8, 1.0],         # Subsample ratio of features\n",
    "    'gamma': [0, 1],                        # Minimum loss reduction to make a split\n",
    "}              \n"
   ]
  },
  {
   "cell_type": "code",
   "execution_count": 135,
   "metadata": {},
   "outputs": [
    {
     "name": "stdout",
     "output_type": "stream",
     "text": [
      "Best Parameters for XGBoost: {'colsample_bytree': 0.8, 'gamma': 0, 'learning_rate': 0.01, 'max_depth': 10, 'n_estimators': 300, 'subsample': 0.8}\n"
     ]
    }
   ],
   "source": [
    "# Initialize XGBoost classifier\n",
    "xgb = XGBClassifier(random_state=42, use_label_encoder=False, eval_metric='mlogloss')\n",
    "\n",
    "# Initialize GridSearchCV with reduced search space\n",
    "# Initialize GridSearchCV\n",
    "grid_search_xgb = GridSearchCV(\n",
    "    estimator=xgb,\n",
    "    param_grid=param_grid,\n",
    "    cv=stratified_kfold,\n",
    "    scoring='accuracy',\n",
    "    verbose=2,\n",
    "    n_jobs=-1\n",
    ")\n",
    "\n",
    "# Fit GridSearchCV\n",
    "# grid_search_xgb.fit(X_resampled, y_resampled)\n",
    "\n",
    "# Retrieve the best parameters\n",
    "best_params_xgb = {\n",
    "                    'colsample_bytree': 0.8, \n",
    "                    'gamma': 0, \n",
    "                    'learning_rate': 0.01, \n",
    "                    'max_depth': 10, \n",
    "                    'n_estimators': 300, \n",
    "                    'subsample': 0.8\n",
    "                    }\n",
    "print(\"Best Parameters for XGBoost:\", best_params_xgb)"
   ]
  },
  {
   "cell_type": "code",
   "execution_count": 136,
   "metadata": {},
   "outputs": [],
   "source": [
    "# Train XGBoost with the best parameters from GridSearchCV\n",
    "best_xgb = XGBClassifier(\n",
    "    n_estimators=best_params_xgb['n_estimators'],\n",
    "    max_depth=best_params_xgb['max_depth'],\n",
    "    learning_rate=best_params_xgb['learning_rate'],\n",
    "    subsample=best_params_xgb['subsample'],\n",
    "    colsample_bytree=best_params_xgb['colsample_bytree'],\n",
    "    gamma=best_params_xgb['gamma'],\n",
    "    random_state=42,\n",
    "    use_label_encoder=False,\n",
    "    eval_metric='mlogloss'\n",
    ")"
   ]
  },
  {
   "cell_type": "code",
   "execution_count": 137,
   "metadata": {},
   "outputs": [],
   "source": [
    "from sklearn.metrics import classification_report, confusion_matrix\n",
    "from sklearn.model_selection import cross_validate"
   ]
  },
  {
   "cell_type": "code",
   "execution_count": 138,
   "metadata": {},
   "outputs": [
    {
     "name": "stdout",
     "output_type": "stream",
     "text": [
      "\n",
      "Cross-validation scores with StratifiedKFold (Tuned XGBoost): [0.94907407 0.93518519 0.93981481 0.96296296 0.95601852]\n",
      "Average CV score: 0.9486 (+/- 0.0204)\n"
     ]
    }
   ],
   "source": [
    "# First, fit the model with the best parameters\n",
    "best_xgb.fit(X_resampled, y_resampled)\n",
    "\n",
    "# Create a new list to store the scores manually\n",
    "scores = []\n",
    "\n",
    "# Manually perform cross-validation\n",
    "for train_idx, test_idx in stratified_kfold.split(X_resampled, y_resampled):\n",
    "    # Split data\n",
    "    X_train, X_test = X_resampled.iloc[train_idx], X_resampled.iloc[test_idx]\n",
    "    y_train, y_test = y_resampled[train_idx], y_resampled[test_idx]\n",
    "    \n",
    "    # Train model\n",
    "    model = XGBClassifier(**best_params_xgb, random_state=42, use_label_encoder=False, eval_metric='mlogloss')\n",
    "    model.fit(X_train, y_train)\n",
    "    \n",
    "    # Get score\n",
    "    score = model.score(X_test, y_test)\n",
    "    scores.append(score)\n",
    "\n",
    "# Convert scores to numpy array\n",
    "scores = np.array(scores)\n",
    "\n",
    "# Print results\n",
    "print(\"\\nCross-validation scores with StratifiedKFold (Tuned XGBoost):\", scores)\n",
    "print(f\"Average CV score: {scores.mean():.4f} (+/- {scores.std() * 2:.4f})\")"
   ]
  },
  {
   "cell_type": "code",
   "execution_count": 139,
   "metadata": {},
   "outputs": [
    {
     "name": "stdout",
     "output_type": "stream",
     "text": [
      "\n",
      "Feature Importance for Tuned XGBoost:\n",
      "     feature  importance\n",
      "1        sig    0.358472\n",
      "3    tsunami    0.256188\n",
      "0       dmin    0.230774\n",
      "2  magnitude    0.081334\n",
      "4      depth    0.073233\n"
     ]
    }
   ],
   "source": [
    "# Feature Importance\n",
    "feature_importance_xgb = pd.DataFrame({\n",
    "    'feature': selected_features,\n",
    "    'importance': best_xgb.feature_importances_\n",
    "}).sort_values('importance', ascending=False)\n",
    "\n",
    "print(\"\\nFeature Importance for Tuned XGBoost:\")\n",
    "print(feature_importance_xgb)"
   ]
  },
  {
   "cell_type": "code",
   "execution_count": 140,
   "metadata": {},
   "outputs": [
    {
     "name": "stdout",
     "output_type": "stream",
     "text": [
      "XGBoost model saved to 'Models/best_xgb_model.pkl'\n"
     ]
    }
   ],
   "source": [
    "with open(\"../Notebooks/Models/best_xgb_model.pkl\", \"wb\") as f:\n",
    "    pickle.dump(best_xgb, f)\n",
    "print(\"XGBoost model saved to 'Models/best_xgb_model.pkl'\")\n"
   ]
  },
  {
   "cell_type": "code",
   "execution_count": null,
   "metadata": {},
   "outputs": [],
   "source": []
  }
 ],
 "metadata": {
  "kernelspec": {
   "display_name": "Python 3",
   "language": "python",
   "name": "python3"
  },
  "language_info": {
   "codemirror_mode": {
    "name": "ipython",
    "version": 3
   },
   "file_extension": ".py",
   "mimetype": "text/x-python",
   "name": "python",
   "nbconvert_exporter": "python",
   "pygments_lexer": "ipython3",
   "version": "3.10.11"
  }
 },
 "nbformat": 4,
 "nbformat_minor": 2
}
